{
 "cells": [
  {
   "cell_type": "markdown",
   "metadata": {
    "collapsed": true,
    "pycharm": {
     "name": "#%% md\n"
    }
   },
   "source": [
    "Feature weight in Random Forest algorithm"
   ]
  },
  {
   "cell_type": "code",
   "execution_count": 4,
   "metadata": {
    "pycharm": {
     "is_executing": true,
     "name": "#%%\n"
    }
   },
   "outputs": [
    {
     "name": "stderr",
     "output_type": "stream",
     "text": [
      "/home/patrycja/PycharmProjects/scientificProject1/models/model_exec.py:54: SettingWithCopyWarning: \n",
      "A value is trying to be set on a copy of a slice from a DataFrame.\n",
      "Try using .loc[row_indexer,col_indexer] = value instead\n",
      "\n",
      "See the caveats in the documentation: https://pandas.pydata.org/pandas-docs/stable/user_guide/indexing.html#returning-a-view-versus-a-copy\n",
      "  self.x_train['comment'] = self.x_train['comment'].apply(DataProcesser.remove_stopwords)\n",
      "/home/patrycja/PycharmProjects/scientificProject1/models/model_exec.py:55: SettingWithCopyWarning: \n",
      "A value is trying to be set on a copy of a slice from a DataFrame.\n",
      "Try using .loc[row_indexer,col_indexer] = value instead\n",
      "\n",
      "See the caveats in the documentation: https://pandas.pydata.org/pandas-docs/stable/user_guide/indexing.html#returning-a-view-versus-a-copy\n",
      "  self.x_test['comment'] = self.x_test['comment'].apply(DataProcesser.remove_stopwords)\n"
     ]
    },
    {
     "name": "stdout",
     "output_type": "stream",
     "text": [
      "\n",
      "LogisticRegression\n",
      "Accuracy Score : 0.7865853658536586\n",
      "Precision Score : 0.6261682242990654\n",
      "Recall Score : 0.6907216494845361\n",
      "F1 Score : 0.6568627450980392\n",
      "\n",
      "RandomForest\n",
      "Accuracy Score : 0.7835365853658537\n",
      "Precision Score : 0.6120689655172413\n",
      "Recall Score : 0.7319587628865979\n",
      "F1 Score : 0.6666666666666666\n",
      "\n",
      "GradientBoosting\n",
      "Accuracy Score : 0.7896341463414634\n",
      "Precision Score : 0.7058823529411765\n",
      "Recall Score : 0.4948453608247423\n",
      "F1 Score : 0.5818181818181818\n",
      "\n",
      "SVM\n",
      "Accuracy Score : 0.7865853658536586\n",
      "Precision Score : 0.6261682242990654\n",
      "Recall Score : 0.6907216494845361\n",
      "F1 Score : 0.6568627450980392\n"
     ]
    },
    {
     "name": "stderr",
     "output_type": "stream",
     "text": [
      "/home/patrycja/anaconda3/lib/python3.8/site-packages/sklearn/svm/_base.py:976: ConvergenceWarning: Liblinear failed to converge, increase the number of iterations.\n",
      "  warnings.warn(\"Liblinear failed to converge, increase \"\n"
     ]
    },
    {
     "data": {
      "image/png": "[encoded data removed]",
      "text/plain": [
       "<Figure size 468x324 with 1 Axes>"
      ]
     },
     "metadata": {
      "needs_background": "light"
     },
     "output_type": "display_data"
    },
    {
     "data": {
      "text/plain": [
       "<Figure size 360x360 with 0 Axes>"
      ]
     },
     "metadata": {},
     "output_type": "display_data"
    }
   ],
   "source": [
    "from models.model_exec import ModelExec\n",
    "import numpy as np\n",
    "import matplotlib.pyplot as plt\n",
    "\n",
    "model_exec = ModelExec()\n",
    "model = model_exec.execute_model('RandomForest')\n",
    "model = model.get_model()\n",
    "\n",
    "def get_plot_weight(col):\n",
    "    y = model.feature_importances_\n",
    "    # plot\n",
    "    fig, ax = plt.subplots()\n",
    "    width = 0.4  # the width of the bars\n",
    "    ind = np.arange(len(y))  # the x locations for the groups\n",
    "    ax.barh(ind, y, width, color=\"green\")\n",
    "    ax.set_yticks(ind + width / 10)\n",
    "    ax.set_yticklabels(col, minor=False)\n",
    "\n",
    "    plt.title(\"Feature importance in RandomForest Classifier\")\n",
    "    plt.xlabel(\"Relative importance\")\n",
    "    plt.ylabel(\"feature\")\n",
    "    plt.figure(figsize=(5, 5))\n",
    "    fig.set_size_inches(6.5, 4.5, forward=True)\n",
    "\n",
    "get_plot_weight([\"Comment Length\", \"Stopwords number\", \"Comment/code similarity\"])"
   ]
  },
  {
   "cell_type": "markdown",
   "metadata": {},
   "source": [
    "Feature weight in Random Forest algorithm with comments"
   ]
  },
  {
   "cell_type": "code",
   "execution_count": null,
   "metadata": {
    "pycharm": {
     "is_executing": true,
     "name": "#%%\n"
    }
   },
   "outputs": [],
   "source": [
    "model_exec = ModelExec(include_comments=True)\n",
    "model = model_exec.execute_model('RandomForest')\n",
    "model = model.get_model\n",
    "get_plot_weight([\"Comment Length\", \"Stopwords number\", \"Comment/code similarity\", \"Comments\"])\n"
   ]
  },
  {
   "cell_type": "markdown",
   "metadata": {
    "pycharm": {
     "name": "#%% md\n"
    }
   },
   "source": [
    "Get decision trees in Random Forest algorithm"
   ]
  },
  {
   "cell_type": "code",
   "execution_count": 3,
   "metadata": {
    "pycharm": {
     "is_executing": true,
     "name": "#%%\n"
    }
   },
   "outputs": [
    {
     "ename": "AttributeError",
     "evalue": "'function' object has no attribute 'estimators_'",
     "output_type": "error",
     "traceback": [
      "\u001b[0;31m---------------------------------------------------------------------------\u001b[0m",
      "\u001b[0;31mAttributeError\u001b[0m                            Traceback (most recent call last)",
      "\u001b[0;32m<ipython-input-3-6fecc6118c88>\u001b[0m in \u001b[0;36m<module>\u001b[0;34m\u001b[0m\n\u001b[0;32m----> 1\u001b[0;31m \u001b[0mestimator\u001b[0m \u001b[0;34m=\u001b[0m \u001b[0mmodel\u001b[0m\u001b[0;34m.\u001b[0m\u001b[0mestimators_\u001b[0m\u001b[0;34m[\u001b[0m\u001b[0;36m5\u001b[0m\u001b[0;34m]\u001b[0m\u001b[0;34m\u001b[0m\u001b[0;34m\u001b[0m\u001b[0m\n\u001b[0m\u001b[1;32m      2\u001b[0m \u001b[0;32mfrom\u001b[0m \u001b[0msklearn\u001b[0m\u001b[0;34m.\u001b[0m\u001b[0mtree\u001b[0m \u001b[0;32mimport\u001b[0m \u001b[0mexport_graphviz\u001b[0m\u001b[0;34m\u001b[0m\u001b[0;34m\u001b[0m\u001b[0m\n\u001b[1;32m      3\u001b[0m \u001b[0;34m\u001b[0m\u001b[0m\n\u001b[1;32m      4\u001b[0m export_graphviz(estimator,\n\u001b[1;32m      5\u001b[0m                 \u001b[0mout_file\u001b[0m\u001b[0;34m=\u001b[0m\u001b[0;34m'tree.dot'\u001b[0m\u001b[0;34m,\u001b[0m\u001b[0;34m\u001b[0m\u001b[0;34m\u001b[0m\u001b[0m\n",
      "\u001b[0;31mAttributeError\u001b[0m: 'function' object has no attribute 'estimators_'"
     ]
    }
   ],
   "source": [
    "estimator = model.estimators_[5]\n",
    "from sklearn.tree import export_graphviz\n",
    "\n",
    "export_graphviz(estimator,\n",
    "                out_file='tree.dot',\n",
    "                feature_names = [\"Comment Length\", \"Stopwords number\", \"Comment/code similarity\"],\n",
    "                class_names = ['non-information: yes', 'non-information: no'],\n",
    "                rounded = True, proportion = False,\n",
    "                precision = 2, filled = True)\n",
    "from subprocess import call\n",
    "call(['dot', '-Tpng', 'tree.dot', '-o', 'tree.png', '-Gdpi=600'])\n",
    "from IPython.display import Image\n",
    "\n",
    "Image(filename = 'tree.png')"
   ]
  },
  {
   "cell_type": "code",
   "execution_count": null,
   "metadata": {},
   "outputs": [],
   "source": []
  }
 ],
 "metadata": {
  "kernelspec": {
   "display_name": "Python 3",
   "language": "python",
   "name": "python3"
  }
 },
 "nbformat": 4,
 "nbformat_minor": 1
}
