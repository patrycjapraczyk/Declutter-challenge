{
 "cells": [
  {
   "cell_type": "markdown",
   "metadata": {
    "collapsed": true,
    "pycharm": {
     "name": "#%% md\n"
    }
   },
   "source": [
    "Imports and loading data"
   ]
  },
  {
   "cell_type": "code",
   "execution_count": 1,
   "outputs": [
    {
     "data": {
      "text/plain": "array([[-0.66848628,  1.43471391, -0.63701424,  5.70718509],\n       [-0.55059746, -1.54352203, -0.0516775 , -0.26165037],\n       [-0.19693099,  0.24341953, -0.05170986, -0.26165037],\n       ...,\n       [-0.66848628, -1.54352203, -0.63701424, -0.26165037],\n       [-0.43270864,  1.43471391, -0.63701424, -0.26165037],\n       [ 1.04090167, -1.54352203, -0.63701424, -0.26165037]])"
     },
     "execution_count": 1,
     "metadata": {},
     "output_type": "execute_result"
    }
   ],
   "source": [
    "import numpy as np\n",
    "from sklearn.model_selection import GridSearchCV\n",
    "from sklearn.linear_model import LogisticRegression\n",
    "from models.model_exec import ModelExec\n",
    "\n",
    "model_exec = ModelExec(include_comments=False, include_long_code=True)\n",
    "features = model_exec.extract_features(model_exec.data)\n",
    "features = model_exec.combine_features(features, include_comments=False)\n",
    "x = features\n",
    "y = model_exec.data['non-information']\n",
    "x"
   ],
   "metadata": {
    "collapsed": false,
    "pycharm": {
     "name": "#%%\n"
    }
   }
  },
  {
   "cell_type": "markdown",
   "source": [
    "### Testing non-textual data\n",
    "\n",
    "Testing Logistic Regression"
   ],
   "metadata": {
    "collapsed": false,
    "pycharm": {
     "name": "#%% md\n"
    }
   }
  },
  {
   "cell_type": "code",
   "execution_count": 2,
   "outputs": [
    {
     "name": "stdout",
     "output_type": "stream",
     "text": [
      "tuned hpyerparameters :(best parameters)  {'C': 1.7575106248547894, 'dual': False, 'fit_intercept': True, 'max_iter': 100, 'penalty': 'l2'}\n",
      "accuracy : 0.7917881101087207\n"
     ]
    }
   ],
   "source": [
    "import warnings\n",
    "warnings.filterwarnings('ignore')\n",
    "\n",
    "grid={\n",
    "    'C':np.logspace(-4,4,50),\n",
    "    'penalty':['l1', 'l2', 'elasticnet', 'none'],\n",
    "    'max_iter':range(100, 10000, 100),\n",
    "    'fit_intercept':[True, False],\n",
    "    'dual':[True, False],\n",
    "}# l1 lasso l2 ridge\n",
    "logreg=LogisticRegression()\n",
    "logreg_cv=GridSearchCV(logreg,grid,cv=10)\n",
    "logreg_cv.fit(x,y)\n",
    "\n",
    "print(\"tuned hpyerparameters :(best parameters) \",logreg_cv.best_params_)\n",
    "print(\"accuracy :\",logreg_cv.best_score_)"
   ],
   "metadata": {
    "collapsed": false,
    "pycharm": {
     "name": "#%%\n"
    }
   }
  }
 ],
 "metadata": {
  "kernelspec": {
   "display_name": "Python 3",
   "language": "python",
   "name": "python3"
  },
  "language_info": {
   "codemirror_mode": {
    "name": "ipython",
    "version": 2
   },
   "file_extension": ".py",
   "mimetype": "text/x-python",
   "name": "python",
   "nbconvert_exporter": "python",
   "pygments_lexer": "ipython2",
   "version": "2.7.6"
  }
 },
 "nbformat": 4,
 "nbformat_minor": 0
}