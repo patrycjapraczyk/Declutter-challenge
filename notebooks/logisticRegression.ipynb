{
 "cells": [
  {
   "cell_type": "markdown",
   "metadata": {
    "collapsed": true,
    "pycharm": {
     "name": "#%% md\n"
    }
   },
   "source": [
    "## A simple model based on logistic regression for determining if the comments are useful or not.\n",
    "\n",
    "Import libraries and parse CSV data --> include only the comment strings and their labels (non-information)"
   ]
  },
  {
   "cell_type": "code",
   "execution_count": 8,
   "outputs": [
    {
     "name": "stdout",
     "output_type": "stream",
     "text": [
      "[1 1 0 ... 1 0 1]\n"
     ]
    }
   ],
   "source": [
    "import unicodedata\n",
    "import pandas as pd\n",
    "import numpy as np\n",
    "from sklearn.ensemble import RandomForestClassifier\n",
    "\n",
    "data = pd.read_csv(\"./../data/train_set_0520.csv\", usecols=['comment', 'non-information'])\n",
    "\n",
    "comments = data['comment'].apply(str)\n",
    "values = data['non-information'].values\n",
    "values = np.where(values == 'yes', 1, 0)\n",
    "print(values)"
   ],
   "metadata": {
    "collapsed": false,
    "pycharm": {
     "name": "#%%\n"
    }
   }
  },
  {
   "cell_type": "markdown",
   "source": [
    "Split the comments into train (used for training the model) and test data (used for evaluating the model)."
   ],
   "metadata": {
    "collapsed": false
   }
  },
  {
   "cell_type": "code",
   "execution_count": 9,
   "outputs": [],
   "source": [
    "from sklearn.model_selection import train_test_split\n",
    "comments_train, comments_test, y_train, y_test = train_test_split(comments, values, test_size=0.25, random_state=1000)"
   ],
   "metadata": {
    "collapsed": false,
    "pycharm": {
     "name": "#%%\n"
    }
   }
  },
  {
   "cell_type": "markdown",
   "source": [
    "Preprocess data:\n",
    "1. remove all special characters\n",
    "2. TODO: expand contradictions (don't = do not etc)\n",
    "3. remove special characters\n",
    "4. stemming --> put the word into its most basic form\n",
    "5. lemmatisation --> removes the word's affixes to get to the basic form of the word\n",
    "\n",
    "Observations: Removing stopwords decreased accuracy"
   ],
   "metadata": {
    "collapsed": false
   }
  },
  {
   "cell_type": "code",
   "execution_count": 10,
   "outputs": [],
   "source": [
    "def remove_accented_chars(text):\n",
    "    text = unicodedata.normalize('NFKD', text).encode('ascii', 'ignore').decode('utf-8', 'ignore')\n",
    "    return text\n",
    "\n",
    "import re # regular expressions\n",
    "def remove_special_characters(text, remove_digits=False):\n",
    "    pattern = r'[^a-zA-z0-9\\s]' if not remove_digits else r'[^a-zA-z\\s]'\n",
    "    text = re.sub(pattern, '', text)\n",
    "    return text\n",
    "\n",
    "from nltk.stem import PorterStemmer\n",
    "ps = PorterStemmer()\n",
    "\n",
    "import pandas as pd\n",
    "\n",
    "import nltk\n",
    "from nltk.tokenize.toktok import ToktokTokenizer\n",
    "tokenizer = ToktokTokenizer()\n",
    "stopword_list = nltk.corpus.stopwords.words('english')\n",
    "def remove_stopwords(text):\n",
    "    tokens = tokenizer.tokenize(text)\n",
    "    tokens = [token.strip() for token in tokens]\n",
    "    filtered_tokens = [token for token in tokens if token not in stopword_list]\n",
    "    filtered_text = ' '.join(filtered_tokens)\n",
    "    return filtered_text\n",
    "\n",
    "comments_train = comments_train.map(remove_accented_chars)\n",
    "comments_train = comments_train.map(remove_special_characters)\n",
    "#to lower case\n",
    "comments_train = comments_train.map(lambda text : text.lower())\n",
    "#stemming\n",
    "comments_train = [(\" \".join(list(map(ps.stem, comment.split())))) for comment in comments_train]\n",
    "#comments_train = [remove_stopwords(comment) for comment in comments_train]\n",
    "comments_train = pd.Series(comments_train)"
   ],
   "metadata": {
    "collapsed": false,
    "pycharm": {
     "name": "#%%\n"
    }
   }
  },
  {
   "cell_type": "markdown",
   "source": [
    "Vectorise data - map a numerical value to each word\n",
    "\n",
    "This is based on the Bag-of-Words Model. It ignores the order of words and focuses only on their frequency."
   ],
   "metadata": {
    "collapsed": false
   }
  },
  {
   "cell_type": "code",
   "execution_count": 11,
   "outputs": [],
   "source": [
    "from sklearn.feature_extraction.text import CountVectorizer\n",
    "\n",
    "vectorizer = CountVectorizer()\n",
    "vectorizer.fit(comments_train)\n",
    "\n",
    "x_train = vectorizer.transform(comments_train)\n",
    "x_test  = vectorizer.transform(comments_test)"
   ],
   "metadata": {
    "collapsed": false,
    "pycharm": {
     "name": "#%%\n"
    }
   }
  },
  {
   "cell_type": "markdown",
   "source": [
    "Create a logistic regression model and fit the training data into it."
   ],
   "metadata": {
    "collapsed": false
   }
  },
  {
   "cell_type": "code",
   "source": [
    "from sklearn.linear_model import LogisticRegression\n",
    "from sklearn.utils.fixes import loguniform\n",
    "#param_grid = {'C': loguniform(1e0, 1e3)}\n",
    "\n",
    "classifier = LogisticRegression()\n",
    "classifier.fit(x_train, y_train)"
   ],
   "metadata": {
    "collapsed": false,
    "pycharm": {
     "name": "#%%\n"
    }
   },
   "execution_count": 12,
   "outputs": [
    {
     "data": {
      "text/plain": "LogisticRegression()"
     },
     "execution_count": 12,
     "metadata": {},
     "output_type": "execute_result"
    }
   ]
  },
  {
   "cell_type": "markdown",
   "source": [
    "Evaluate the model based on the following properties:\n",
    "* <b>accuracy</b> - How often a data point is classified correctly?\n",
    "The number of true positives and true negatives divided by the number of true positives, true negatives, false positives, and false negatives\n",
    "* <b>precision</b> - What proportion of positive identifications was actually correct?\n",
    "The number of true positives divided by the number of true positives and false positives\n",
    "* <b>recall</b> - What proportion of actual positives was identified correctly?\n",
    "The number of true positives divided by the number of true positives and false negatives\n",
    "* <b>F1 score</b>- The F1 Score is the 2*((precision*recall)/(precision+recall)).\n",
    " conveys the balance between the precision and the recall."
   ],
   "metadata": {
    "collapsed": false,
    "pycharm": {
     "name": "#%% md\n"
    }
   }
  },
  {
   "cell_type": "code",
   "execution_count": 13,
   "outputs": [
    {
     "name": "stdout",
     "output_type": "stream",
     "text": [
      "Accuracy Score : 0.7896341463414634\n",
      "Precision Score : 0.6555555555555556\n",
      "Recall Score : 0.6082474226804123\n",
      "F1 Score : 0.6310160427807486\n"
     ]
    }
   ],
   "source": [
    "y_pred = classifier.predict(x_test)\n",
    "\n",
    "# Model Evaluation metrics\n",
    "from sklearn.metrics import accuracy_score,recall_score,precision_score,f1_score\n",
    "print('Accuracy Score : ' + str(accuracy_score(y_test,y_pred)))\n",
    "print('Precision Score : ' + str(precision_score(y_test,y_pred)))\n",
    "print('Recall Score : ' + str(recall_score(y_test,y_pred)))\n",
    "print('F1 Score : ' + str(f1_score(y_test,y_pred)))\n",
    "\n",
    "# Attempted to optimise hyperparameters - didn't work\n",
    "\n",
    "# from sklearn.model_selection import GridSearchCV\n",
    "# clf = LogisticRegression()\n",
    "# grid_values = {'C':[0.001,.009,0.01,.09,1,5,10,25]}\n",
    "# grid_clf_acc = GridSearchCV(clf, param_grid = grid_values,scoring = 'recall')\n",
    "# grid_clf_acc.fit(x_train, y_train)\n",
    "#\n",
    "# #Predict values based on new parameters\n",
    "# y_pred_acc = grid_clf_acc.predict(x_test)\n",
    "#\n",
    "# # New Model Evaluation metrics\n",
    "# print('Accuracy Score : ' + str(accuracy_score(y_test,y_pred_acc)))\n",
    "# print('Precision Score : ' + str(precision_score(y_test,y_pred_acc)))\n",
    "# print('Recall Score : ' + str(recall_score(y_test,y_pred_acc)))\n",
    "# print('F1 Score : ' + str(f1_score(y_test,y_pred_acc)))"
   ],
   "metadata": {
    "collapsed": false,
    "pycharm": {
     "name": "#%%\n"
    }
   }
  },
  {
   "cell_type": "markdown",
   "source": [
    "Random forest classifier"
   ],
   "metadata": {
    "collapsed": false,
    "pycharm": {
     "name": "#%% md\n"
    }
   }
  },
  {
   "cell_type": "code",
   "execution_count": 14,
   "outputs": [
    {
     "name": "stdout",
     "output_type": "stream",
     "text": [
      "Accuracy Score : 0.7042682926829268\n",
      "Precision Score : 0.0\n",
      "Recall Score : 0.0\n",
      "F1 Score : 0.0\n"
     ]
    },
    {
     "name": "stderr",
     "output_type": "stream",
     "text": [
      "/home/patrycja/anaconda3/lib/python3.8/site-packages/sklearn/metrics/_classification.py:1221: UndefinedMetricWarning: Precision is ill-defined and being set to 0.0 due to no predicted samples. Use `zero_division` parameter to control this behavior.\n",
      "  _warn_prf(average, modifier, msg_start, len(result))\n"
     ]
    }
   ],
   "source": [
    "randomForestClassifier = RandomForestClassifier(max_depth=2, random_state=0)\n",
    "randomForestClassifier.fit(x_train, y_train)\n",
    "\n",
    "y_pred = randomForestClassifier.predict(x_test)\n",
    "\n",
    "# Model Evaluation metrics\n",
    "from sklearn.metrics import accuracy_score,recall_score,precision_score,f1_score\n",
    "print('Accuracy Score : ' + str(accuracy_score(y_test,y_pred)))\n",
    "print('Precision Score : ' + str(precision_score(y_test,y_pred)))\n",
    "print('Recall Score : ' + str(recall_score(y_test,y_pred)))\n",
    "print('F1 Score : ' + str(f1_score(y_test,y_pred)))"
   ],
   "metadata": {
    "collapsed": false,
    "pycharm": {
     "name": "#%%\n"
    }
   }
  }
 ],
 "metadata": {
  "kernelspec": {
   "display_name": "Python 3",
   "language": "python",
   "name": "python3"
  },
  "language_info": {
   "codemirror_mode": {
    "name": "ipython",
    "version": 2
   },
   "file_extension": ".py",
   "mimetype": "text/x-python",
   "name": "python",
   "nbconvert_exporter": "python",
   "pygments_lexer": "ipython2",
   "version": "2.7.6"
  }
 },
 "nbformat": 4,
 "nbformat_minor": 0
}