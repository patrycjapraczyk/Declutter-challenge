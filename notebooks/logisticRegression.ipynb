{
 "cells": [
  {
   "cell_type": "markdown",
   "metadata": {
    "collapsed": true,
    "pycharm": {
     "name": "#%% md\n"
    }
   },
   "source": [
    "## A simple model based on logistic regression for determining if the comments are useful or not.\n",
    "\n",
    "Import libraries and parse CSV data --> include only the comment strings and their labels (non-information)"
   ]
  },
  {
   "cell_type": "code",
   "execution_count": 106,
   "metadata": {
    "pycharm": {
     "name": "#%%\n"
    }
   },
   "outputs": [],
   "source": [
    "from helpers.data_loader import DataLoader\n",
    "from helpers.data_preprocessing import DataProcesser\n",
    "from helpers.feature_helper import FeatureHelper\n",
    "from text_representation.text_representation_factory import TextRepresentationFactory\n",
    "from helpers.text_similarity import TextSimilarity\n",
    "\n",
    "import pandas as pd\n",
    "import numpy as np\n",
    "from sklearn.model_selection import train_test_split\n",
    "from sklearn.feature_extraction.text import CountVectorizer\n",
    "from sklearn.linear_model import LogisticRegression\n",
    "from sklearn.preprocessing import LabelEncoder, normalize, scale\n",
    "from scipy import sparse\n",
    "\n",
    "data = DataLoader.load_csv_file(\"./../data/train_set_0520.csv\", ['type', 'comment', 'non-information'])\n",
    "code = DataLoader.load_csv_file(\"./../data/code_data.csv\", ['code'])\n",
    "data['code'] = code['code']\n",
    "data['code'] = data['code'].apply(str)\n",
    "data['comment'] = data['comment'].apply(str)\n",
    "data['code'] = data['code'].apply(DataProcesser.preprocess_code)\n",
    "code = data['code']\n",
    "values = data['non-information'].values\n",
    "values = np.where(values == 'yes', 1, 0)"
   ]
  },
  {
   "cell_type": "markdown",
   "metadata": {},
   "source": [
    "Preprocess data:\n",
    "1. remove all special characters\n",
    "2. TODO: expand contradictions (don't = do not etc)\n",
    "3. remove special characters\n",
    "4. stemming --> put the word into its most basic form\n",
    "5. lemmatisation --> removes the word's affixes to get to the basic form of the word\n",
    "\n",
    "Observations: Removing stopwords decreased accuracy"
   ]
  },
  {
   "cell_type": "code",
   "execution_count": 107,
   "metadata": {
    "pycharm": {
     "name": "#%%\n"
    }
   },
   "outputs": [],
   "source": [
    "data['comment'] = data['comment'].apply(str)\n",
    "java_tags_ratio = data.apply(lambda row: FeatureHelper.get_java_tags_ratio(row['comment']), axis=1).to_numpy()\n",
    "\n",
    "data['comment'] = data['comment']\n",
    "data['comment'] = data['comment'].apply(DataProcesser.preprocess)\n",
    "comments = data['comment']"
   ]
  },
  {
   "cell_type": "markdown",
   "metadata": {},
   "source": [
    "Split the comments into train (used for training the model) and test data (used for evaluating the model)."
   ]
  },
  {
   "cell_type": "code",
   "execution_count": 108,
   "metadata": {
    "pycharm": {
     "name": "#%%\n"
    }
   },
   "outputs": [
    {
     "data": {
      "text/plain": "431                                  open a share databas\n213     execut a callabl task that provid a valu after...\n730     copi the select entri and mat them with the se...\n1005                               auto gener method stub\n130     keep track of chang made to the column like re...\n                              ...                        \n769                           test the field is legal set\n350     initi the compon the layout the data structur ...\n1275    panel getunmanag addedit unablemovegroup group...\n71      to remov old en or add it to a list of entri t...\n599     need to toggl a twice to make sure everyth is ...\nName: comment, Length: 983, dtype: object"
     },
     "execution_count": 108,
     "metadata": {},
     "output_type": "execute_result"
    }
   ],
   "source": [
    "from sklearn.model_selection import train_test_split\n",
    "comments_train, comments_test, y_train, y_test = train_test_split(comments, values, test_size=0.25, random_state=1000)\n",
    "comments_train\n"
   ]
  },
  {
   "cell_type": "markdown",
   "metadata": {},
   "source": [
    "Vectorise data - map a numerical value to each word\n",
    "\n",
    "This is based on the Bag-of-Words Model. It ignores the order of words and focuses only on their frequency."
   ]
  },
  {
   "cell_type": "code",
   "execution_count": 109,
   "metadata": {
    "pycharm": {
     "name": "#%%\n"
    }
   },
   "outputs": [
    {
     "data": {
      "text/plain": "<2x1824 sparse matrix of type '<class 'numpy.int64'>'\n\twith 6 stored elements in Compressed Sparse Row format>"
     },
     "execution_count": 109,
     "metadata": {},
     "output_type": "execute_result"
    }
   ],
   "source": [
    "#TODO add length after count vectoriser --> seperate into files\n",
    "from sklearn.feature_extraction.text import CountVectorizer\n",
    "text_representation = TextRepresentationFactory.get_text_representation('BOW')\n",
    "comments = text_representation.vectorize(comments)\n",
    "df = text_representation.print(comments)\n",
    "df = df.iloc[:3]\n",
    "\n",
    "newdf = pd.DataFrame()\n",
    "for column in df:\n",
    "    total = df[column].sum()\n",
    "    if total > 0 :\n",
    "        newdf[column] = df[column]\n",
    "\n",
    "comments[:2]"
   ]
  }
 ],
 "metadata": {
  "kernelspec": {
   "display_name": "Python 3",
   "language": "python",
   "name": "python3"
  },
  "language_info": {
   "codemirror_mode": {
    "name": "ipython",
    "version": 3
   },
   "file_extension": ".py",
   "mimetype": "text/x-python",
   "name": "python",
   "nbconvert_exporter": "python",
   "pygments_lexer": "ipython3",
   "version": "3.8.3"
  }
 },
 "nbformat": 4,
 "nbformat_minor": 1
}