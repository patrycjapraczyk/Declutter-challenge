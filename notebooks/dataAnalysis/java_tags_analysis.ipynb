{
 "cells": [
  {
   "cell_type": "code",
   "execution_count": 4,
   "metadata": {
    "collapsed": true,
    "pycharm": {
     "name": "#%%\n"
    }
   },
   "outputs": [
    {
     "name": "stdout",
     "output_type": "stream",
     "text": [
      "0.0\n",
      "0.0\n"
     ]
    }
   ],
   "source": [
    "from helpers.feature_helper import FeatureHelper\n",
    "from helpers.data_loader import DataLoader\n",
    "\n",
    "data = DataLoader.load_csv_file(\"./../../data/train_set_0520.csv\", ['type', 'comment', 'non-information'])\n",
    "data['comment'] = data.apply(str)\n",
    "data['comment'] = data['comment'].apply(str)\n",
    "data['java_tags_ratio'] = data.apply(lambda row: FeatureHelper.get_java_tags_ratio(row['comment']),\n",
    "                                                axis=1).to_numpy()\n",
    "data.head()\n",
    "\n",
    "good_comments = data[data['non-information'] == 'yes']\n",
    "bad_comments = data[data['non-information'] == 'no']\n",
    "\n",
    "print(good_comments['java_tags_ratio'].mean())\n",
    "print(bad_comments['java_tags_ratio'].mean())"
   ]
  }
 ],
 "metadata": {
  "kernelspec": {
   "display_name": "Python 3",
   "language": "python",
   "name": "python3"
  },
  "language_info": {
   "codemirror_mode": {
    "name": "ipython",
    "version": 2
   },
   "file_extension": ".py",
   "mimetype": "text/x-python",
   "name": "python",
   "nbconvert_exporter": "python",
   "pygments_lexer": "ipython2",
   "version": "2.7.6"
  }
 },
 "nbformat": 4,
 "nbformat_minor": 0
}