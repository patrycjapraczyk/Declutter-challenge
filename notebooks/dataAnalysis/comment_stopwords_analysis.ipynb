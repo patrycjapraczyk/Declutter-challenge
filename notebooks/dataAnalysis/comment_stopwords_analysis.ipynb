{
 "cells": [
  {
   "cell_type": "code",
   "execution_count": 12,
   "metadata": {
    "collapsed": true
   },
   "outputs": [],
   "source": [
    "import pandas as pd\n",
    "data = pd.read_csv(\"./../../data/train_set_0520.csv\", usecols=['comment', 'non-information']);"
   ]
  },
  {
   "cell_type": "markdown",
   "source": [
    "Count the number of stopwords in the dataframe"
   ],
   "metadata": {
    "collapsed": false,
    "pycharm": {
     "name": "#%% md\n"
    }
   }
  },
  {
   "cell_type": "code",
   "execution_count": 13,
   "outputs": [
    {
     "data": {
      "text/plain": "                                             comment non-information  \\\n0  implnot taken from link comsunjavafxscenecontr...             yes   \n1           iconsettooltiptextprintedviewmodelgetloc             yes   \n2  synchron chang of the underli date valu with t...              no   \n3  ask if the user realli want to close the given...             yes   \n4                                         css inform              no   \n\n   stopwords_num  \n0              1  \n1              0  \n2              3  \n3              3  \n4              0  ",
      "text/html": "<div>\n<style scoped>\n    .dataframe tbody tr th:only-of-type {\n        vertical-align: middle;\n    }\n\n    .dataframe tbody tr th {\n        vertical-align: top;\n    }\n\n    .dataframe thead th {\n        text-align: right;\n    }\n</style>\n<table border=\"1\" class=\"dataframe\">\n  <thead>\n    <tr style=\"text-align: right;\">\n      <th></th>\n      <th>comment</th>\n      <th>non-information</th>\n      <th>stopwords_num</th>\n    </tr>\n  </thead>\n  <tbody>\n    <tr>\n      <th>0</th>\n      <td>implnot taken from link comsunjavafxscenecontr...</td>\n      <td>yes</td>\n      <td>1</td>\n    </tr>\n    <tr>\n      <th>1</th>\n      <td>iconsettooltiptextprintedviewmodelgetloc</td>\n      <td>yes</td>\n      <td>0</td>\n    </tr>\n    <tr>\n      <th>2</th>\n      <td>synchron chang of the underli date valu with t...</td>\n      <td>no</td>\n      <td>3</td>\n    </tr>\n    <tr>\n      <th>3</th>\n      <td>ask if the user realli want to close the given...</td>\n      <td>yes</td>\n      <td>3</td>\n    </tr>\n    <tr>\n      <th>4</th>\n      <td>css inform</td>\n      <td>no</td>\n      <td>0</td>\n    </tr>\n  </tbody>\n</table>\n</div>"
     },
     "execution_count": 13,
     "metadata": {},
     "output_type": "execute_result"
    }
   ],
   "source": [
    "from nltk.corpus import stopwords\n",
    "from helpers.data_preprocessing import DataProcesser\n",
    "dp = DataProcesser()\n",
    "\n",
    "stop_words = set(stopwords.words('english'))\n",
    "data['comment'] = data['comment'].apply(str)\n",
    "data['comment'] = dp.preprocess(data['comment'])\n",
    "data['stopwords_num'] = data['comment'].str.split().apply(lambda x: len(set(x) & stop_words))\n",
    "data.head()"
   ],
   "metadata": {
    "collapsed": false,
    "pycharm": {
     "name": "#%%\n"
    }
   }
  },
  {
   "cell_type": "markdown",
   "source": [
    "Average number of stopwords for non-information 'yes' comments"
   ],
   "metadata": {
    "collapsed": false,
    "pycharm": {
     "name": "#%% md\n"
    }
   }
  },
  {
   "cell_type": "code",
   "execution_count": 14,
   "outputs": [
    {
     "data": {
      "text/plain": "1.339522546419098"
     },
     "execution_count": 14,
     "metadata": {},
     "output_type": "execute_result"
    }
   ],
   "source": [
    "bad_comments = data[data['non-information'] == 'yes']\n",
    "bad_comments['stopwords_num'].mean()\n"
   ],
   "metadata": {
    "collapsed": false,
    "pycharm": {
     "name": "#%%\n"
    }
   }
  },
  {
   "cell_type": "markdown",
   "source": [
    "Average number of stopwords for non-information 'no' comments"
   ],
   "metadata": {
    "collapsed": false
   }
  },
  {
   "cell_type": "code",
   "execution_count": 15,
   "outputs": [
    {
     "data": {
      "text/plain": "4.9785867237687365"
     },
     "execution_count": 15,
     "metadata": {},
     "output_type": "execute_result"
    }
   ],
   "source": [
    "good_comments = data[data['non-information'] == 'no']\n",
    "good_comments['stopwords_num'].mean()"
   ],
   "metadata": {
    "collapsed": false,
    "pycharm": {
     "name": "#%%\n"
    }
   }
  }
 ],
 "metadata": {
  "kernelspec": {
   "display_name": "Python 3",
   "language": "python",
   "name": "python3"
  },
  "language_info": {
   "codemirror_mode": {
    "name": "ipython",
    "version": 2
   },
   "file_extension": ".py",
   "mimetype": "text/x-python",
   "name": "python",
   "nbconvert_exporter": "python",
   "pygments_lexer": "ipython2",
   "version": "2.7.6"
  }
 },
 "nbformat": 4,
 "nbformat_minor": 0
}