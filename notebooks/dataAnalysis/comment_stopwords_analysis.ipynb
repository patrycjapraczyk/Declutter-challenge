{
 "cells": [
  {
   "cell_type": "code",
   "execution_count": 2,
   "metadata": {},
   "outputs": [],
   "source": [
    "import pandas as pd\n",
    "data = pd.read_csv(\"./../../data/train_set_0520.csv\", usecols=['comment', 'non-information']);"
   ]
  },
  {
   "cell_type": "markdown",
   "metadata": {
    "pycharm": {
     "name": "#%% md\n"
    }
   },
   "source": [
    "Count the number of stopwords in the dataframe"
   ]
  },
  {
   "cell_type": "code",
   "execution_count": 14,
   "metadata": {
    "pycharm": {
     "name": "#%%\n"
    }
   },
   "outputs": [
    {
     "data": {
      "text/html": [
       "<div>\n",
       "<style scoped>\n",
       "    .dataframe tbody tr th:only-of-type {\n",
       "        vertical-align: middle;\n",
       "    }\n",
       "\n",
       "    .dataframe tbody tr th {\n",
       "        vertical-align: top;\n",
       "    }\n",
       "\n",
       "    .dataframe thead th {\n",
       "        text-align: right;\n",
       "    }\n",
       "</style>\n",
       "<table border=\"1\" class=\"dataframe\">\n",
       "  <thead>\n",
       "    <tr style=\"text-align: right;\">\n",
       "      <th></th>\n",
       "      <th>comment</th>\n",
       "      <th>non-information</th>\n",
       "      <th>stopwords_num</th>\n",
       "      <th>comment_length</th>\n",
       "      <th>comment_len_stopwords_ratio</th>\n",
       "    </tr>\n",
       "  </thead>\n",
       "  <tbody>\n",
       "    <tr>\n",
       "      <th>0</th>\n",
       "      <td>implnot taken from link com sun javafx scene c...</td>\n",
       "      <td>yes</td>\n",
       "      <td>1</td>\n",
       "      <td>16</td>\n",
       "      <td>0.062500</td>\n",
       "    </tr>\n",
       "    <tr>\n",
       "      <th>1</th>\n",
       "      <td>icon settooltiptext printedviewmodel getloc</td>\n",
       "      <td>yes</td>\n",
       "      <td>0</td>\n",
       "      <td>4</td>\n",
       "      <td>0.000000</td>\n",
       "    </tr>\n",
       "    <tr>\n",
       "      <th>2</th>\n",
       "      <td>synchron chang of the underli date valu with t...</td>\n",
       "      <td>no</td>\n",
       "      <td>3</td>\n",
       "      <td>10</td>\n",
       "      <td>0.300000</td>\n",
       "    </tr>\n",
       "    <tr>\n",
       "      <th>3</th>\n",
       "      <td>ask if the user realli want to close the given...</td>\n",
       "      <td>yes</td>\n",
       "      <td>3</td>\n",
       "      <td>11</td>\n",
       "      <td>0.272727</td>\n",
       "    </tr>\n",
       "    <tr>\n",
       "      <th>4</th>\n",
       "      <td>css inform</td>\n",
       "      <td>no</td>\n",
       "      <td>0</td>\n",
       "      <td>2</td>\n",
       "      <td>0.000000</td>\n",
       "    </tr>\n",
       "  </tbody>\n",
       "</table>\n",
       "</div>"
      ],
      "text/plain": [
       "                                             comment non-information  \\\n",
       "0  implnot taken from link com sun javafx scene c...             yes   \n",
       "1        icon settooltiptext printedviewmodel getloc             yes   \n",
       "2  synchron chang of the underli date valu with t...              no   \n",
       "3  ask if the user realli want to close the given...             yes   \n",
       "4                                         css inform              no   \n",
       "\n",
       "   stopwords_num  comment_length  comment_len_stopwords_ratio  \n",
       "0              1              16                     0.062500  \n",
       "1              0               4                     0.000000  \n",
       "2              3              10                     0.300000  \n",
       "3              3              11                     0.272727  \n",
       "4              0               2                     0.000000  "
      ]
     },
     "execution_count": 14,
     "metadata": {},
     "output_type": "execute_result"
    }
   ],
   "source": [
    "from nltk.corpus import stopwords\n",
    "from helpers.data_preprocessing import DataProcesser\n",
    "dp = DataProcesser()\n",
    "\n",
    "def get_stopwords_ratio(row):\n",
    "    if row['stopwords_num'] == 0:\n",
    "        return 0\n",
    "    return row['stopwords_num']/row['comment_length']\n",
    "\n",
    "stop_words = set(stopwords.words('english'))\n",
    "data['comment'] = data['comment'].apply(str)\n",
    "data['comment'] = data['comment'].apply(dp.preprocess)\n",
    "data['stopwords_num'] = data['comment'].str.split().apply(lambda x: len(set(x) & stop_words))\n",
    "data['comment_length'] = data['comment'].apply(lambda comment: len(comment.split()))\n",
    "data['comment_len_stopwords_ratio'] = data.apply((lambda row: get_stopwords_ratio(row)), axis=1)\n",
    "data.head()"
   ]
  },
  {
   "cell_type": "markdown",
   "metadata": {
    "pycharm": {
     "name": "#%% md\n"
    }
   },
   "source": [
    "Average number of stopwords for non-information 'yes' comments"
   ]
  },
  {
   "cell_type": "code",
   "execution_count": 15,
   "metadata": {
    "pycharm": {
     "name": "#%%\n"
    }
   },
   "outputs": [
    {
     "data": {
      "text/plain": [
       "0.18365379921721228"
      ]
     },
     "execution_count": 15,
     "metadata": {},
     "output_type": "execute_result"
    }
   ],
   "source": [
    "bad_comments = data[data['non-information'] == 'yes']\n",
    "bad_comments['comment_len_stopwords_ratio'].mean()\n"
   ]
  },
  {
   "cell_type": "markdown",
   "metadata": {},
   "source": [
    "Average number of stopwords for non-information 'no' comments"
   ]
  },
  {
   "cell_type": "code",
   "execution_count": 17,
   "metadata": {
    "pycharm": {
     "name": "#%%\n"
    }
   },
   "outputs": [
    {
     "data": {
      "text/plain": [
       "0.2867366170792998"
      ]
     },
     "execution_count": 17,
     "metadata": {},
     "output_type": "execute_result"
    }
   ],
   "source": [
    "good_comments = data[data['non-information'] == 'no']\n",
    "good_comments['comment_len_stopwords_ratio'].mean()"
   ]
  }
 ],
 "metadata": {
  "kernelspec": {
   "display_name": "Python 3",
   "language": "python",
   "name": "python3"
  },
  "language_info": {
   "codemirror_mode": {
    "name": "ipython",
    "version": 3
   },
   "file_extension": ".py",
   "mimetype": "text/x-python",
   "name": "python",
   "nbconvert_exporter": "python",
   "pygments_lexer": "ipython3",
   "version": "3.8.3"
  }
 },
 "nbformat": 4,
 "nbformat_minor": 1
}
