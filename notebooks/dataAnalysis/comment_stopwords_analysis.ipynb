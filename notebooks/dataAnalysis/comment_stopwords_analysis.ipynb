{
 "cells": [
  {
   "cell_type": "code",
   "execution_count": 1,
   "metadata": {},
   "outputs": [],
   "source": [
    "import pandas as pd\n",
    "data = pd.read_csv(\"./../../data/train_set_0520.csv\", usecols=['comment', 'non-information']);"
   ]
  },
  {
   "cell_type": "markdown",
   "metadata": {
    "pycharm": {
     "name": "#%% md\n"
    }
   },
   "source": [
    "Count the number of stopwords in the dataframe"
   ]
  },
  {
   "cell_type": "code",
   "execution_count": 3,
   "metadata": {
    "pycharm": {
     "name": "#%%\n"
    }
   },
   "outputs": [
    {
     "data": {
      "text/plain": "                                             comment non-information  \\\n0                                         taken from             yes   \n1           icon settooltiptext predviewmodel getloc             yes   \n2  synchron chang of the underli date valu with t...              no   \n3  ask the user realli want to close the given da...             yes   \n4                                          css inmat              no   \n\n   stopwords_num  comment_length  comment_len_stopwords_ratio  \n0              1               2                          0.5  \n1              0               4                          0.0  \n2              3              10                          0.3  \n3              2              10                          0.2  \n4              0               2                          0.0  ",
      "text/html": "<div>\n<style scoped>\n    .dataframe tbody tr th:only-of-type {\n        vertical-align: middle;\n    }\n\n    .dataframe tbody tr th {\n        vertical-align: top;\n    }\n\n    .dataframe thead th {\n        text-align: right;\n    }\n</style>\n<table border=\"1\" class=\"dataframe\">\n  <thead>\n    <tr style=\"text-align: right;\">\n      <th></th>\n      <th>comment</th>\n      <th>non-information</th>\n      <th>stopwords_num</th>\n      <th>comment_length</th>\n      <th>comment_len_stopwords_ratio</th>\n    </tr>\n  </thead>\n  <tbody>\n    <tr>\n      <th>0</th>\n      <td>taken from</td>\n      <td>yes</td>\n      <td>1</td>\n      <td>2</td>\n      <td>0.5</td>\n    </tr>\n    <tr>\n      <th>1</th>\n      <td>icon settooltiptext predviewmodel getloc</td>\n      <td>yes</td>\n      <td>0</td>\n      <td>4</td>\n      <td>0.0</td>\n    </tr>\n    <tr>\n      <th>2</th>\n      <td>synchron chang of the underli date valu with t...</td>\n      <td>no</td>\n      <td>3</td>\n      <td>10</td>\n      <td>0.3</td>\n    </tr>\n    <tr>\n      <th>3</th>\n      <td>ask the user realli want to close the given da...</td>\n      <td>yes</td>\n      <td>2</td>\n      <td>10</td>\n      <td>0.2</td>\n    </tr>\n    <tr>\n      <th>4</th>\n      <td>css inmat</td>\n      <td>no</td>\n      <td>0</td>\n      <td>2</td>\n      <td>0.0</td>\n    </tr>\n  </tbody>\n</table>\n</div>"
     },
     "execution_count": 3,
     "metadata": {},
     "output_type": "execute_result"
    }
   ],
   "source": [
    "from nltk.corpus import stopwords\n",
    "from helpers.data_preprocessing import DataProcesser\n",
    "\n",
    "def get_stopwords_ratio(row):\n",
    "    if row['stopwords_num'] == 0:\n",
    "        return 0\n",
    "    return row['stopwords_num']/row['comment_length']\n",
    "\n",
    "stop_words = set(stopwords.words('english'))\n",
    "data['comment'] = data['comment'].apply(str)\n",
    "data['comment'] = data['comment'].apply(DataProcesser.preprocess)\n",
    "data['stopwords_num'] = data['comment'].str.split().apply(lambda x: len(set(x) & stop_words))\n",
    "data['comment_length'] = data['comment'].apply(lambda comment: len(comment.split()))\n",
    "data['comment_len_stopwords_ratio'] = data.apply((lambda row: get_stopwords_ratio(row)), axis=1)\n",
    "data.head()"
   ]
  },
  {
   "cell_type": "markdown",
   "metadata": {
    "pycharm": {
     "name": "#%% md\n"
    }
   },
   "source": [
    "Average number of stopwords for non-information 'yes' comments"
   ]
  },
  {
   "cell_type": "code",
   "execution_count": 4,
   "metadata": {
    "pycharm": {
     "name": "#%%\n"
    }
   },
   "outputs": [
    {
     "data": {
      "text/plain": "0.17553343770584082"
     },
     "execution_count": 4,
     "metadata": {},
     "output_type": "execute_result"
    }
   ],
   "source": [
    "bad_comments = data[data['non-information'] == 'yes']\n",
    "bad_comments['comment_len_stopwords_ratio'].mean()\n"
   ]
  },
  {
   "cell_type": "markdown",
   "metadata": {},
   "source": [
    "Average number of stopwords for non-information 'no' comments"
   ]
  },
  {
   "cell_type": "code",
   "execution_count": 5,
   "metadata": {
    "pycharm": {
     "name": "#%%\n"
    }
   },
   "outputs": [
    {
     "data": {
      "text/plain": "0.2962188643095369"
     },
     "execution_count": 5,
     "metadata": {},
     "output_type": "execute_result"
    }
   ],
   "source": [
    "good_comments = data[data['non-information'] == 'no']\n",
    "good_comments['comment_len_stopwords_ratio'].mean()"
   ]
  }
 ],
 "metadata": {
  "kernelspec": {
   "display_name": "Python 3",
   "language": "python",
   "name": "python3"
  },
  "language_info": {
   "codemirror_mode": {
    "name": "ipython",
    "version": 3
   },
   "file_extension": ".py",
   "mimetype": "text/x-python",
   "name": "python",
   "nbconvert_exporter": "python",
   "pygments_lexer": "ipython3",
   "version": "3.8.3"
  }
 },
 "nbformat": 4,
 "nbformat_minor": 1
}