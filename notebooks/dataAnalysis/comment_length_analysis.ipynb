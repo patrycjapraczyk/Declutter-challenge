{
 "cells": [
  {
   "cell_type": "markdown",
   "metadata": {
    "pycharm": {
     "name": "#%% md\n"
    }
   },
   "source": [
    "Calculate comment word and character length"
   ]
  },
  {
   "cell_type": "code",
   "execution_count": 1,
   "metadata": {
    "pycharm": {
     "name": "#%%\n"
    }
   },
   "outputs": [
    {
     "name": "stdout",
     "output_type": "stream",
     "text": [
      "Index(['comment', 'non-information'], dtype='object')\n"
     ]
    },
    {
     "data": {
      "text/plain": "                                             comment non-information  \\\n0  @implNote taken from {@link com.sun.javafx.sce...             yes   \n1  icon.setToolTipText(printedViewModel.getLocali...             yes   \n2  Synchronize changes of the underlying date val...              no   \n3  Ask if the user really wants to close the give...             yes   \n4                                 css: information *              no   \n\n   comment_len_characters  comment_len_words  \n0                     141                  5  \n1                      56                  1  \n2                      79                 10  \n3                      56                 11  \n4                      18                  3  ",
      "text/html": "<div>\n<style scoped>\n    .dataframe tbody tr th:only-of-type {\n        vertical-align: middle;\n    }\n\n    .dataframe tbody tr th {\n        vertical-align: top;\n    }\n\n    .dataframe thead th {\n        text-align: right;\n    }\n</style>\n<table border=\"1\" class=\"dataframe\">\n  <thead>\n    <tr style=\"text-align: right;\">\n      <th></th>\n      <th>comment</th>\n      <th>non-information</th>\n      <th>comment_len_characters</th>\n      <th>comment_len_words</th>\n    </tr>\n  </thead>\n  <tbody>\n    <tr>\n      <th>0</th>\n      <td>@implNote taken from {@link com.sun.javafx.sce...</td>\n      <td>yes</td>\n      <td>141</td>\n      <td>5</td>\n    </tr>\n    <tr>\n      <th>1</th>\n      <td>icon.setToolTipText(printedViewModel.getLocali...</td>\n      <td>yes</td>\n      <td>56</td>\n      <td>1</td>\n    </tr>\n    <tr>\n      <th>2</th>\n      <td>Synchronize changes of the underlying date val...</td>\n      <td>no</td>\n      <td>79</td>\n      <td>10</td>\n    </tr>\n    <tr>\n      <th>3</th>\n      <td>Ask if the user really wants to close the give...</td>\n      <td>yes</td>\n      <td>56</td>\n      <td>11</td>\n    </tr>\n    <tr>\n      <th>4</th>\n      <td>css: information *</td>\n      <td>no</td>\n      <td>18</td>\n      <td>3</td>\n    </tr>\n  </tbody>\n</table>\n</div>"
     },
     "execution_count": 1,
     "metadata": {},
     "output_type": "execute_result"
    }
   ],
   "source": [
    "import pandas as pd\n",
    "\n",
    "data = pd.read_csv(\"./../../data/train_set_0520.csv\", usecols=['comment', 'non-information'])\n",
    "\n",
    "columns = data.columns\n",
    "print(columns)\n",
    "\n",
    "data['comment'] = data['comment'].apply(str)\n",
    "data['comment_len_characters'] = data.apply(lambda row: len(row['comment']), axis=1)\n",
    "data['comment_len_words'] = data.apply(lambda row: len(row['comment'].split()), axis=1)\n",
    "\n",
    "data.head()"
   ]
  },
  {
   "cell_type": "markdown",
   "metadata": {
    "pycharm": {
     "name": "#%% md\n"
    }
   },
   "source": [
    "Comment character length distribution vs non-information 'no'"
   ]
  },
  {
   "cell_type": "code",
   "execution_count": 2,
   "metadata": {
    "pycharm": {
     "name": "#%%\n"
    }
   },
   "outputs": [
    {
     "data": {
      "text/plain": "<Figure size 432x288 with 1 Axes>",
      "image/png": "[encoded data removed]"
     },
     "metadata": {
      "needs_background": "light"
     },
     "output_type": "display_data"
    }
   ],
   "source": [
    "df1 = data[['non-information', 'comment_len_characters']]\n",
    "\n",
    "good_comments = data[data['non-information'] == 'no']\n",
    "comment_len_characters = good_comments[[ 'comment_len_characters']]\n",
    "comment_len_characters = comment_len_characters[comment_len_characters[ 'comment_len_characters'] < 300]\n",
    "\n",
    "ax = comment_len_characters.plot.hist(bins=300, alpha=0.5)"
   ]
  },
  {
   "cell_type": "markdown",
   "metadata": {},
   "source": [
    "Comment average character length for non-information 'no' comments"
   ]
  },
  {
   "cell_type": "code",
   "execution_count": 3,
   "metadata": {
    "pycharm": {
     "name": "#%%\n"
    }
   },
   "outputs": [
    {
     "data": {
      "text/plain": "112.31584582441114"
     },
     "execution_count": 3,
     "metadata": {},
     "output_type": "execute_result"
    }
   ],
   "source": [
    "good_comments['comment_len_characters'].mean()"
   ]
  },
  {
   "cell_type": "markdown",
   "metadata": {},
   "source": [
    "Comment character length distribution vs non-information 'yes'"
   ]
  },
  {
   "cell_type": "code",
   "execution_count": 4,
   "metadata": {
    "pycharm": {
     "name": "#%%\n"
    }
   },
   "outputs": [
    {
     "data": {
      "text/plain": "<Figure size 432x288 with 1 Axes>",
      "image/png": "[encoded data removed]"
     },
     "metadata": {
      "needs_background": "light"
     },
     "output_type": "display_data"
    }
   ],
   "source": [
    "bad_comments = data[data['non-information'] == 'yes']\n",
    "bad_comment_len_characters = bad_comments[[ 'comment_len_characters']]\n",
    "bad_comment_len_characters = bad_comment_len_characters[bad_comment_len_characters[ 'comment_len_characters'] < 300]\n",
    "ax2 = bad_comment_len_characters.plot.hist(bins=300, alpha=0.5)\n"
   ]
  },
  {
   "cell_type": "markdown",
   "metadata": {},
   "source": [
    "Comment average character length for non-information 'no' comments"
   ]
  },
  {
   "cell_type": "code",
   "execution_count": 5,
   "metadata": {
    "pycharm": {
     "name": "#%%\n"
    }
   },
   "outputs": [
    {
     "data": {
      "text/plain": "42.270557029177716"
     },
     "execution_count": 5,
     "metadata": {},
     "output_type": "execute_result"
    }
   ],
   "source": [
    "bad_comments['comment_len_characters'].mean()"
   ]
  },
  {
   "cell_type": "markdown",
   "metadata": {},
   "source": [
    "Comment character length distribution vs non-information"
   ]
  },
  {
   "cell_type": "code",
   "execution_count": 6,
   "metadata": {
    "pycharm": {
     "name": "#%%\n"
    }
   },
   "outputs": [
    {
     "data": {
      "text/plain": "<Figure size 432x288 with 1 Axes>",
      "image/png": "[encoded data removed]"
     },
     "metadata": {
      "needs_background": "light"
     },
     "output_type": "display_data"
    }
   ],
   "source": [
    "d = [bad_comments['comment_len_characters'], good_comments[\"comment_len_characters\"]]\n",
    "headers = [\"non-information: yes\", \"non-information: no\"]\n",
    "\n",
    "df3 = pd.concat(d, axis=1, keys=headers)\n",
    "df3.head()\n",
    "\n",
    "ax2 = df3.plot.hist(bins=100, alpha=0.5)"
   ]
  },
  {
   "cell_type": "markdown",
   "metadata": {},
   "source": [
    "Comment word length distribution vs non-information 'no'"
   ]
  },
  {
   "cell_type": "code",
   "execution_count": 7,
   "metadata": {
    "pycharm": {
     "name": "#%%\n"
    }
   },
   "outputs": [
    {
     "data": {
      "text/plain": "<Figure size 432x288 with 1 Axes>",
      "image/png": "[encoded data removed]"
     },
     "metadata": {
      "needs_background": "light"
     },
     "output_type": "display_data"
    }
   ],
   "source": [
    "comment_len_words = good_comments[[ 'comment_len_words']]\n",
    "# only take into accounts comments with word length less than 100\n",
    "comment_len_words = comment_len_words[comment_len_words['comment_len_words'] < 100]\n",
    "ax = comment_len_words.plot.hist(bins=240, alpha=0.5)"
   ]
  },
  {
   "cell_type": "markdown",
   "metadata": {},
   "source": [
    "Average comment word length for non-information 'no'"
   ]
  },
  {
   "cell_type": "code",
   "execution_count": 8,
   "metadata": {
    "pycharm": {
     "name": "#%%\n"
    }
   },
   "outputs": [
    {
     "data": {
      "text/plain": "18.069593147751608"
     },
     "execution_count": 8,
     "metadata": {},
     "output_type": "execute_result"
    }
   ],
   "source": [
    "good_comments['comment_len_words'].mean()"
   ]
  },
  {
   "cell_type": "markdown",
   "metadata": {},
   "source": [
    "Comment word length distribution vs non-information 'yes'"
   ]
  },
  {
   "cell_type": "code",
   "execution_count": 9,
   "metadata": {
    "pycharm": {
     "name": "#%%\n"
    }
   },
   "outputs": [
    {
     "data": {
      "text/plain": "<Figure size 432x288 with 1 Axes>",
      "image/png": "[encoded data removed]"
     },
     "metadata": {
      "needs_background": "light"
     },
     "output_type": "display_data"
    }
   ],
   "source": [
    "comment_len_words = bad_comments[[ 'comment_len_words']]\n",
    "# only take into accounts comments with word length less than 100\n",
    "comment_len_words = comment_len_words[comment_len_words['comment_len_words'] < 100]\n",
    "ax = comment_len_words.plot.hist(bins=240, alpha=0.5)"
   ]
  },
  {
   "cell_type": "markdown",
   "metadata": {},
   "source": [
    "Average comment word length for non-information 'yes'"
   ]
  },
  {
   "cell_type": "code",
   "execution_count": 10,
   "metadata": {
    "pycharm": {
     "name": "#%%\n"
    }
   },
   "outputs": [
    {
     "data": {
      "text/plain": "5.519893899204244"
     },
     "execution_count": 10,
     "metadata": {},
     "output_type": "execute_result"
    }
   ],
   "source": [
    "bad_comments['comment_len_words'].mean()"
   ]
  }
 ],
 "metadata": {
  "kernelspec": {
   "display_name": "Python 3",
   "language": "python",
   "name": "python3"
  },
  "language_info": {
   "codemirror_mode": {
    "name": "ipython",
    "version": 3
   },
   "file_extension": ".py",
   "mimetype": "text/x-python",
   "name": "python",
   "nbconvert_exporter": "python",
   "pygments_lexer": "ipython3",
   "version": "3.8.3"
  }
 },
 "nbformat": 4,
 "nbformat_minor": 1
}