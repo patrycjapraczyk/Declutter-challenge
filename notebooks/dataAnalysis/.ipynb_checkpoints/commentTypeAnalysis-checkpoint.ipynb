{
 "cells": [
  {
   "cell_type": "markdown",
   "metadata": {
    "collapsed": true,
    "pycharm": {
     "name": "#%% md\n"
    }
   },
   "source": [
    "This notebook investigates data properties of the provided comment dataset\n",
    "\n",
    "Non-information distribution in the dataset:"
   ]
  },
  {
   "cell_type": "code",
   "execution_count": 7,
   "metadata": {
    "pycharm": {
     "name": "#%%\n"
    }
   },
   "outputs": [
    {
     "data": {
      "text/plain": [
       "no     934\n",
       "yes    377\n",
       "dtype: int64"
      ]
     },
     "execution_count": 7,
     "metadata": {},
     "output_type": "execute_result"
    }
   ],
   "source": [
    "import pandas as pd\n",
    "import numpy as np\n",
    "\n",
    "data = pd.read_csv(\"./../data/train_set_0520.csv\", usecols=['type', 'non-information'])\n",
    "\n",
    "values = data['non-information'].tolist()\n",
    "types = data['type'].tolist()\n",
    "\n",
    "comment_types = pd.Series(values, types)\n",
    "comment_types.value_counts()"
   ]
  },
  {
   "cell_type": "markdown",
   "metadata": {
    "pycharm": {
     "name": "#%% md\n"
    }
   },
   "source": [
    "Comment type counts"
   ]
  },
  {
   "cell_type": "code",
   "execution_count": 8,
   "metadata": {
    "pycharm": {
     "name": "#%%\n"
    }
   },
   "outputs": [
    {
     "data": {
      "text/plain": [
       "Line       786\n",
       "Javadoc    482\n",
       "Block       43\n",
       "dtype: int64"
      ]
     },
     "execution_count": 8,
     "metadata": {},
     "output_type": "execute_result"
    }
   ],
   "source": [
    "comment_types = pd.Series(types, values)\n",
    "comment_types.value_counts()"
   ]
  },
  {
   "cell_type": "markdown",
   "metadata": {},
   "source": [
    "Data:"
   ]
  },
  {
   "cell_type": "code",
   "execution_count": 9,
   "metadata": {
    "pycharm": {
     "name": "#%%\n"
    }
   },
   "outputs": [
    {
     "data": {
      "text/html": [
       "<div>\n",
       "<style scoped>\n",
       "    .dataframe tbody tr th:only-of-type {\n",
       "        vertical-align: middle;\n",
       "    }\n",
       "\n",
       "    .dataframe tbody tr th {\n",
       "        vertical-align: top;\n",
       "    }\n",
       "\n",
       "    .dataframe thead th {\n",
       "        text-align: right;\n",
       "    }\n",
       "</style>\n",
       "<table border=\"1\" class=\"dataframe\">\n",
       "  <thead>\n",
       "    <tr style=\"text-align: right;\">\n",
       "      <th></th>\n",
       "      <th>type</th>\n",
       "      <th>non-information</th>\n",
       "    </tr>\n",
       "  </thead>\n",
       "  <tbody>\n",
       "    <tr>\n",
       "      <th>0</th>\n",
       "      <td>Javadoc</td>\n",
       "      <td>yes</td>\n",
       "    </tr>\n",
       "    <tr>\n",
       "      <th>1</th>\n",
       "      <td>Line</td>\n",
       "      <td>yes</td>\n",
       "    </tr>\n",
       "    <tr>\n",
       "      <th>2</th>\n",
       "      <td>Line</td>\n",
       "      <td>no</td>\n",
       "    </tr>\n",
       "    <tr>\n",
       "      <th>3</th>\n",
       "      <td>Javadoc</td>\n",
       "      <td>yes</td>\n",
       "    </tr>\n",
       "    <tr>\n",
       "      <th>4</th>\n",
       "      <td>Block</td>\n",
       "      <td>no</td>\n",
       "    </tr>\n",
       "  </tbody>\n",
       "</table>\n",
       "</div>"
      ],
      "text/plain": [
       "      type non-information\n",
       "0  Javadoc             yes\n",
       "1     Line             yes\n",
       "2     Line              no\n",
       "3  Javadoc             yes\n",
       "4    Block              no"
      ]
     },
     "execution_count": 9,
     "metadata": {},
     "output_type": "execute_result"
    }
   ],
   "source": [
    "data.head()"
   ]
  },
  {
   "cell_type": "markdown",
   "metadata": {},
   "source": [
    "Data count:"
   ]
  },
  {
   "cell_type": "code",
   "execution_count": 10,
   "metadata": {
    "pycharm": {
     "name": "#%%\n"
    }
   },
   "outputs": [
    {
     "data": {
      "text/plain": [
       "1311"
      ]
     },
     "execution_count": 10,
     "metadata": {},
     "output_type": "execute_result"
    }
   ],
   "source": [
    "data.shape[0]"
   ]
  },
  {
   "cell_type": "markdown",
   "metadata": {},
   "source": [
    "Comment type vs non-information"
   ]
  },
  {
   "cell_type": "code",
   "execution_count": 11,
   "metadata": {
    "pycharm": {
     "name": "#%%\n"
    }
   },
   "outputs": [
    {
     "data": {
      "image/png": "[encoded data removed]",
      "text/plain": [
       "<Figure size 432x288 with 1 Axes>"
      ]
     },
     "metadata": {
      "needs_background": "light"
     },
     "output_type": "display_data"
    }
   ],
   "source": [
    "comment_types = pd.Series(values, types)\n",
    "javadoc_vals = comment_types['Javadoc'].values\n",
    "javadoc_yes = len(list(filter(lambda x: x == 'yes', javadoc_vals)))\n",
    "javadoc_no = len(list(filter(lambda x: x == 'no', javadoc_vals)))\n",
    "\n",
    "line_vals = comment_types['Line'].values\n",
    "line_yes = len(list(filter(lambda x: x == 'yes', line_vals)))\n",
    "line_no = len(list(filter(lambda x: x == 'no', line_vals)))\n",
    "\n",
    "block_vals = comment_types['Block'].values\n",
    "block_yes = len(list(filter(lambda x: x == 'yes', block_vals)))\n",
    "block_no = len(list(filter(lambda x: x == 'no', block_vals)))\n",
    "\n",
    "import numpy as np\n",
    "import matplotlib.pyplot as plt\n",
    "\n",
    "\n",
    "N = 5\n",
    "y1 = np.array([javadoc_yes, line_yes, block_yes])\n",
    "y2 = np.array([javadoc_no, line_no, block_no])\n",
    "\n",
    "x = np.arange(len(y1))\n",
    "width = 0.20\n",
    "\n",
    "fig, axes = plt.subplots(ncols=1, nrows=1)\n",
    "plt.title('Comment type vs non-information')\n",
    "plt.xlabel('Comment type')\n",
    "plt.ylabel('Comments number')\n",
    "axes.bar(x, y1, width=-1.*width, align='edge', label=\"Non-information: Yes\")\n",
    "axes.bar(x, y2, width=width, align='edge', color=list(plt.rcParams['axes.prop_cycle'])[2]['color'], label=\"Non-information: No\")\n",
    "axes.set_xticks(x)\n",
    "axes.set_xticklabels(['Javadoc', 'Line', 'Block'])\n",
    "plt.legend()\n",
    "plt.show()"
   ]
  },
  {
   "cell_type": "markdown",
   "metadata": {},
   "source": [
    "Comment type vs non-information: yes --> percentage"
   ]
  },
  {
   "cell_type": "code",
   "execution_count": 12,
   "metadata": {
    "pycharm": {
     "name": "#%%\n"
    }
   },
   "outputs": [
    {
     "data": {
      "image/png": "[encoded data removed]",
      "text/plain": [
       "<Figure size 432x288 with 1 Axes>"
      ]
     },
     "metadata": {
      "needs_background": "light"
     },
     "output_type": "display_data"
    }
   ],
   "source": [
    "javadoc_yes_percent = javadoc_yes * 100 / (javadoc_no + javadoc_yes)\n",
    "line_yes_percent = line_yes * 100 / (line_yes + line_no)\n",
    "block_yes_percent = block_no * 100 / (block_yes + block_no)\n",
    "\n",
    "fig, axes = plt.subplots(ncols=1, nrows=1)\n",
    "plt.title('Comment type vs percentage of non-information: yes')\n",
    "plt.xlabel('Comment type')\n",
    "plt.ylabel('Non-information: yes- percentage [%]')\n",
    "\n",
    "objects = ('Javadoc', 'Line', 'Block')\n",
    "y_pos = np.arange(len(objects))\n",
    "percentage = [javadoc_yes_percent, line_yes_percent, block_yes_percent]\n",
    "\n",
    "plt.bar(y_pos, percentage, align='center', alpha=0.5)\n",
    "plt.xticks(y_pos, objects)\n",
    "\n",
    "plt.show()\n"
   ]
  }
 ],
 "metadata": {
  "kernelspec": {
   "display_name": "Python 3",
   "language": "python",
   "name": "python3"
  },
  "language_info": {
   "codemirror_mode": {
    "name": "ipython",
    "version": 3
   },
   "file_extension": ".py",
   "mimetype": "text/x-python",
   "name": "python",
   "nbconvert_exporter": "python",
   "pygments_lexer": "ipython3",
   "version": "3.8.3"
  }
 },
 "nbformat": 4,
 "nbformat_minor": 1
}
