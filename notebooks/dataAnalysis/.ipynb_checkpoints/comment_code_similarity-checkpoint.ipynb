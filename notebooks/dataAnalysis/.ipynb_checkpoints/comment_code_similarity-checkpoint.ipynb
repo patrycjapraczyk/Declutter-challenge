{
 "cells": [
  {
   "cell_type": "markdown",
   "metadata": {
    "collapsed": true,
    "pycharm": {
     "name": "#%% md\n"
    }
   },
   "source": [
    "Get data"
   ]
  },
  {
   "cell_type": "code",
   "execution_count": 1,
   "metadata": {
    "pycharm": {
     "name": "#%%\n"
    }
   },
   "outputs": [
    {
     "data": {
      "text/html": [
       "<div>\n",
       "<style scoped>\n",
       "    .dataframe tbody tr th:only-of-type {\n",
       "        vertical-align: middle;\n",
       "    }\n",
       "\n",
       "    .dataframe tbody tr th {\n",
       "        vertical-align: top;\n",
       "    }\n",
       "\n",
       "    .dataframe thead th {\n",
       "        text-align: right;\n",
       "    }\n",
       "</style>\n",
       "<table border=\"1\" class=\"dataframe\">\n",
       "  <thead>\n",
       "    <tr style=\"text-align: right;\">\n",
       "      <th></th>\n",
       "      <th>comment</th>\n",
       "      <th>non-information</th>\n",
       "      <th>code</th>\n",
       "    </tr>\n",
       "  </thead>\n",
       "  <tbody>\n",
       "    <tr>\n",
       "      <th>0</th>\n",
       "      <td>@implNote taken from {@link com.sun.javafx.sce...</td>\n",
       "      <td>yes</td>\n",
       "      <td>public static void showContextMenu(TextArea te...</td>\n",
       "    </tr>\n",
       "    <tr>\n",
       "      <th>1</th>\n",
       "      <td>icon.setToolTipText(printedViewModel.getLocali...</td>\n",
       "      <td>yes</td>\n",
       "      <td>TABLE_ICONS.put(SpecialField.PRINTED</td>\n",
       "    </tr>\n",
       "    <tr>\n",
       "      <th>2</th>\n",
       "      <td>Synchronize changes of the underlying date val...</td>\n",
       "      <td>no</td>\n",
       "      <td>BindingsHelper.bindBidirectional(valueProperty()</td>\n",
       "    </tr>\n",
       "    <tr>\n",
       "      <th>3</th>\n",
       "      <td>Ask if the user really wants to close the give...</td>\n",
       "      <td>yes</td>\n",
       "      <td>private boolean confirmClose(BasePanel panel) {</td>\n",
       "    </tr>\n",
       "    <tr>\n",
       "      <th>4</th>\n",
       "      <td>css: information *</td>\n",
       "      <td>no</td>\n",
       "      <td>INTEGRITY_INFO(MaterialDesignIcon.INFORMATION)</td>\n",
       "    </tr>\n",
       "  </tbody>\n",
       "</table>\n",
       "</div>"
      ],
      "text/plain": [
       "                                             comment non-information  \\\n",
       "0  @implNote taken from {@link com.sun.javafx.sce...             yes   \n",
       "1  icon.setToolTipText(printedViewModel.getLocali...             yes   \n",
       "2  Synchronize changes of the underlying date val...              no   \n",
       "3  Ask if the user really wants to close the give...             yes   \n",
       "4                                 css: information *              no   \n",
       "\n",
       "                                                code  \n",
       "0  public static void showContextMenu(TextArea te...  \n",
       "1               TABLE_ICONS.put(SpecialField.PRINTED  \n",
       "2   BindingsHelper.bindBidirectional(valueProperty()  \n",
       "3    private boolean confirmClose(BasePanel panel) {  \n",
       "4     INTEGRITY_INFO(MaterialDesignIcon.INFORMATION)  "
      ]
     },
     "execution_count": 1,
     "metadata": {},
     "output_type": "execute_result"
    }
   ],
   "source": [
    "import pandas as pd\n",
    "from helpers.data_preprocessing import DataProcesser\n",
    "\n",
    "code = pd.read_csv(\"./../../data/code_data.csv\", usecols=['code'])\n",
    "df = pd.read_csv(\"./../../data/train_set_0520.csv\", usecols=['comment', 'non-information'])\n",
    "df['code'] = code['code']\n",
    "df.head()"
   ]
  },
  {
   "cell_type": "markdown",
   "metadata": {
    "pycharm": {
     "name": "#%% md\n"
    }
   },
   "source": [
    "Preprocess comments and code\n",
    "1. Separate words from camel case and snake case,\n",
    "2. To lower case,\n",
    "3. Remove java tags and keywords,\n",
    "4. remove accented chars,\n",
    "5. stem"
   ]
  },
  {
   "cell_type": "code",
   "execution_count": 2,
   "metadata": {
    "pycharm": {
     "name": "#%%\n"
    }
   },
   "outputs": [
    {
     "data": {
      "text/html": [
       "<div>\n",
       "<style scoped>\n",
       "    .dataframe tbody tr th:only-of-type {\n",
       "        vertical-align: middle;\n",
       "    }\n",
       "\n",
       "    .dataframe tbody tr th {\n",
       "        vertical-align: top;\n",
       "    }\n",
       "\n",
       "    .dataframe thead th {\n",
       "        text-align: right;\n",
       "    }\n",
       "</style>\n",
       "<table border=\"1\" class=\"dataframe\">\n",
       "  <thead>\n",
       "    <tr style=\"text-align: right;\">\n",
       "      <th></th>\n",
       "      <th>comment</th>\n",
       "      <th>non-information</th>\n",
       "      <th>code</th>\n",
       "    </tr>\n",
       "  </thead>\n",
       "  <tbody>\n",
       "    <tr>\n",
       "      <th>0</th>\n",
       "      <td>impl note taken from link com sun javafx scene...</td>\n",
       "      <td>yes</td>\n",
       "      <td>show context menu text area text area</td>\n",
       "    </tr>\n",
       "    <tr>\n",
       "      <th>1</th>\n",
       "      <td>icon set tool tip text print view model get local</td>\n",
       "      <td>yes</td>\n",
       "      <td>tabl icon put special field print</td>\n",
       "    </tr>\n",
       "    <tr>\n",
       "      <th>2</th>\n",
       "      <td>synchron chang of the underli date valu with t...</td>\n",
       "      <td>no</td>\n",
       "      <td>bind helper bind bidirect valu properti</td>\n",
       "    </tr>\n",
       "    <tr>\n",
       "      <th>3</th>\n",
       "      <td>ask if the user realli want to close the given...</td>\n",
       "      <td>yes</td>\n",
       "      <td>confirm close base panel panel</td>\n",
       "    </tr>\n",
       "    <tr>\n",
       "      <th>4</th>\n",
       "      <td>css inform</td>\n",
       "      <td>no</td>\n",
       "      <td>integr info materi design icon inform</td>\n",
       "    </tr>\n",
       "  </tbody>\n",
       "</table>\n",
       "</div>"
      ],
      "text/plain": [
       "                                             comment non-information  \\\n",
       "0  impl note taken from link com sun javafx scene...             yes   \n",
       "1  icon set tool tip text print view model get local             yes   \n",
       "2  synchron chang of the underli date valu with t...              no   \n",
       "3  ask if the user realli want to close the given...             yes   \n",
       "4                                         css inform              no   \n",
       "\n",
       "                                      code  \n",
       "0    show context menu text area text area  \n",
       "1        tabl icon put special field print  \n",
       "2  bind helper bind bidirect valu properti  \n",
       "3           confirm close base panel panel  \n",
       "4    integr info materi design icon inform  "
      ]
     },
     "execution_count": 2,
     "metadata": {},
     "output_type": "execute_result"
    }
   ],
   "source": [
    "dp = DataProcesser()\n",
    "df['comment'] = df['comment'].apply(str)\n",
    "df['comment'] = df['comment'].apply(dp.extract_camel_case)\n",
    "df['comment'] = df['comment'].apply(dp.extract_snake_case)\n",
    "df['comment'] = df['comment'].apply(dp.preprocess)\n",
    "\n",
    "df['code'] = df['code'].apply(str)\n",
    "df['code'] = df['code'].apply(dp.extract_camel_case)\n",
    "df['code'] = df['code'].apply(dp.extract_snake_case)\n",
    "df['code'] = df['code'].apply(dp.remove_java_keywords)\n",
    "df['code'] = df['code'].apply(dp.preprocess)\n",
    "df.head()"
   ]
  },
  {
   "cell_type": "markdown",
   "metadata": {
    "pycharm": {
     "name": "#%% md\n"
    }
   },
   "source": [
    "Count common words between code and comments"
   ]
  },
  {
   "cell_type": "code",
   "execution_count": 3,
   "metadata": {
    "pycharm": {
     "name": "#%%\n"
    }
   },
   "outputs": [
    {
     "data": {
      "text/html": [
       "<div>\n",
       "<style scoped>\n",
       "    .dataframe tbody tr th:only-of-type {\n",
       "        vertical-align: middle;\n",
       "    }\n",
       "\n",
       "    .dataframe tbody tr th {\n",
       "        vertical-align: top;\n",
       "    }\n",
       "\n",
       "    .dataframe thead th {\n",
       "        text-align: right;\n",
       "    }\n",
       "</style>\n",
       "<table border=\"1\" class=\"dataframe\">\n",
       "  <thead>\n",
       "    <tr style=\"text-align: right;\">\n",
       "      <th></th>\n",
       "      <th>comment</th>\n",
       "      <th>non-information</th>\n",
       "      <th>code</th>\n",
       "      <th>word_counts</th>\n",
       "    </tr>\n",
       "  </thead>\n",
       "  <tbody>\n",
       "    <tr>\n",
       "      <th>0</th>\n",
       "      <td>impl note taken from link com sun javafx scene...</td>\n",
       "      <td>yes</td>\n",
       "      <td>show context menu text area text area</td>\n",
       "      <td>4</td>\n",
       "    </tr>\n",
       "    <tr>\n",
       "      <th>1</th>\n",
       "      <td>icon set tool tip text print view model get local</td>\n",
       "      <td>yes</td>\n",
       "      <td>tabl icon put special field print</td>\n",
       "      <td>2</td>\n",
       "    </tr>\n",
       "    <tr>\n",
       "      <th>2</th>\n",
       "      <td>synchron chang of the underli date valu with t...</td>\n",
       "      <td>no</td>\n",
       "      <td>bind helper bind bidirect valu properti</td>\n",
       "      <td>1</td>\n",
       "    </tr>\n",
       "    <tr>\n",
       "      <th>3</th>\n",
       "      <td>ask if the user realli want to close the given...</td>\n",
       "      <td>yes</td>\n",
       "      <td>confirm close base panel panel</td>\n",
       "      <td>1</td>\n",
       "    </tr>\n",
       "    <tr>\n",
       "      <th>4</th>\n",
       "      <td>css inform</td>\n",
       "      <td>no</td>\n",
       "      <td>integr info materi design icon inform</td>\n",
       "      <td>1</td>\n",
       "    </tr>\n",
       "  </tbody>\n",
       "</table>\n",
       "</div>"
      ],
      "text/plain": [
       "                                             comment non-information  \\\n",
       "0  impl note taken from link com sun javafx scene...             yes   \n",
       "1  icon set tool tip text print view model get local             yes   \n",
       "2  synchron chang of the underli date valu with t...              no   \n",
       "3  ask if the user realli want to close the given...             yes   \n",
       "4                                         css inform              no   \n",
       "\n",
       "                                      code  word_counts  \n",
       "0    show context menu text area text area            4  \n",
       "1        tabl icon put special field print            2  \n",
       "2  bind helper bind bidirect valu properti            1  \n",
       "3           confirm close base panel panel            1  \n",
       "4    integr info materi design icon inform            1  "
      ]
     },
     "execution_count": 3,
     "metadata": {},
     "output_type": "execute_result"
    }
   ],
   "source": [
    "from helpers.textual_analysis import *\n",
    "\n",
    "df['word_counts'] = df.apply (lambda row: count_common_words(row['comment'], row['code']), axis=1)\n",
    "df.head()\n"
   ]
  },
  {
   "cell_type": "markdown",
   "metadata": {},
   "source": [
    "Average of counts of common words between code and comments for non-information: yes"
   ]
  },
  {
   "cell_type": "code",
   "execution_count": 4,
   "metadata": {
    "pycharm": {
     "name": "#%%\n"
    }
   },
   "outputs": [
    {
     "data": {
      "text/plain": [
       "0.15119363395225463"
      ]
     },
     "execution_count": 4,
     "metadata": {},
     "output_type": "execute_result"
    }
   ],
   "source": [
    "from helpers.textual_analysis import *\n",
    "\n",
    "bad_comments = df[df['non-information'] == 'yes']\n",
    "bad_comments['word_counts'].mean()"
   ]
  },
  {
   "cell_type": "markdown",
   "metadata": {},
   "source": [
    "Average of counts of common words between code and comments for non-information: yes"
   ]
  },
  {
   "cell_type": "code",
   "execution_count": 6,
   "metadata": {
    "pycharm": {
     "name": "#%%\n"
    }
   },
   "outputs": [
    {
     "data": {
      "text/plain": [
       "0.15119363395225463"
      ]
     },
     "execution_count": 6,
     "metadata": {},
     "output_type": "execute_result"
    }
   ],
   "source": [
    "from helpers.textual_analysis import *\n",
    "\n",
    "bad_comments = df[df['non-information'] == 'yes']\n",
    "bad_comments['word_counts'].mean()\n"
   ]
  },
  {
   "cell_type": "markdown",
   "metadata": {},
   "source": [
    "Average of counts of common words between code and comments for non-information: no"
   ]
  },
  {
   "cell_type": "code",
   "execution_count": 7,
   "metadata": {
    "pycharm": {
     "name": "#%%\n"
    }
   },
   "outputs": [
    {
     "data": {
      "text/plain": [
       "0.29229122055674517"
      ]
     },
     "execution_count": 7,
     "metadata": {},
     "output_type": "execute_result"
    }
   ],
   "source": [
    "from helpers.textual_analysis import *\n",
    "\n",
    "bad_comments = df[df['non-information'] == 'no']\n",
    "bad_comments['word_counts'].mean()"
   ]
  }
 ],
 "metadata": {
  "kernelspec": {
   "display_name": "Python 3",
   "language": "python",
   "name": "python3"
  },
  "language_info": {
   "codemirror_mode": {
    "name": "ipython",
    "version": 3
   },
   "file_extension": ".py",
   "mimetype": "text/x-python",
   "name": "python",
   "nbconvert_exporter": "python",
   "pygments_lexer": "ipython3",
   "version": "3.8.3"
  }
 },
 "nbformat": 4,
 "nbformat_minor": 1
}
