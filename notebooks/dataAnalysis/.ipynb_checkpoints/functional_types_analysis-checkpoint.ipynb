{
 "cells": [
  {
   "cell_type": "markdown",
   "metadata": {
    "collapsed": true,
    "pycharm": {
     "name": "#%% md\n"
    }
   },
   "source": [
    "Load data"
   ]
  },
  {
   "cell_type": "code",
   "execution_count": 20,
   "metadata": {
    "pycharm": {
     "name": "#%%\n"
    }
   },
   "outputs": [
    {
     "data": {
      "text/html": [
       "<div>\n",
       "<style scoped>\n",
       "    .dataframe tbody tr th:only-of-type {\n",
       "        vertical-align: middle;\n",
       "    }\n",
       "\n",
       "    .dataframe tbody tr th {\n",
       "        vertical-align: top;\n",
       "    }\n",
       "\n",
       "    .dataframe thead th {\n",
       "        text-align: right;\n",
       "    }\n",
       "</style>\n",
       "<table border=\"1\" class=\"dataframe\">\n",
       "  <thead>\n",
       "    <tr style=\"text-align: right;\">\n",
       "      <th></th>\n",
       "      <th>type</th>\n",
       "      <th>comment</th>\n",
       "      <th>non-information</th>\n",
       "      <th>functional_type</th>\n",
       "    </tr>\n",
       "  </thead>\n",
       "  <tbody>\n",
       "    <tr>\n",
       "      <th>0</th>\n",
       "      <td>Javadoc</td>\n",
       "      <td>@implNote taken from {@link com.sun.javafx.sce...</td>\n",
       "      <td>yes</td>\n",
       "      <td>method_declaration</td>\n",
       "    </tr>\n",
       "    <tr>\n",
       "      <th>1</th>\n",
       "      <td>Line</td>\n",
       "      <td>icon.setToolTipText(printedViewModel.getLocali...</td>\n",
       "      <td>yes</td>\n",
       "      <td>method_call</td>\n",
       "    </tr>\n",
       "    <tr>\n",
       "      <th>2</th>\n",
       "      <td>Line</td>\n",
       "      <td>Synchronize changes of the underlying date val...</td>\n",
       "      <td>no</td>\n",
       "      <td>method_call</td>\n",
       "    </tr>\n",
       "    <tr>\n",
       "      <th>3</th>\n",
       "      <td>Javadoc</td>\n",
       "      <td>Ask if the user really wants to close the give...</td>\n",
       "      <td>yes</td>\n",
       "      <td>method_declaration</td>\n",
       "    </tr>\n",
       "    <tr>\n",
       "      <th>4</th>\n",
       "      <td>Block</td>\n",
       "      <td>css: information *</td>\n",
       "      <td>no</td>\n",
       "      <td>method_declaration</td>\n",
       "    </tr>\n",
       "  </tbody>\n",
       "</table>\n",
       "</div>"
      ],
      "text/plain": [
       "      type                                            comment non-information  \\\n",
       "0  Javadoc  @implNote taken from {@link com.sun.javafx.sce...             yes   \n",
       "1     Line  icon.setToolTipText(printedViewModel.getLocali...             yes   \n",
       "2     Line  Synchronize changes of the underlying date val...              no   \n",
       "3  Javadoc  Ask if the user really wants to close the give...             yes   \n",
       "4    Block                                 css: information *              no   \n",
       "\n",
       "      functional_type  \n",
       "0  method_declaration  \n",
       "1         method_call  \n",
       "2         method_call  \n",
       "3  method_declaration  \n",
       "4  method_declaration  "
      ]
     },
     "execution_count": 20,
     "metadata": {},
     "output_type": "execute_result"
    }
   ],
   "source": [
    "from helpers.data_loader import DataLoader\n",
    "import pandas as pd\n",
    "import matplotlib.pyplot as plt\n",
    "import numpy as np\n",
    "\n",
    "\n",
    "data = DataLoader.load_csv_file(\"./../../data/train_set_0520.csv\", ['type', 'comment', 'non-information'])\n",
    "functional_types = DataLoader.load_csv_file(\"./../../data/functional_types.csv\", ['functional_type'])\n",
    "data['functional_type'] = functional_types['functional_type']\n",
    "data.head()"
   ]
  },
  {
   "cell_type": "markdown",
   "metadata": {
    "pycharm": {
     "name": "#%% md\n"
    }
   },
   "source": [
    "Data functional types"
   ]
  },
  {
   "cell_type": "code",
   "execution_count": 21,
   "metadata": {
    "pycharm": {
     "name": "#%%\n"
    }
   },
   "outputs": [
    {
     "data": {
      "image/png": "[encoded data removed]",
      "text/plain": [
       "<Figure size 432x288 with 1 Axes>"
      ]
     },
     "metadata": {
      "needs_background": "light"
     },
     "output_type": "display_data"
    }
   ],
   "source": [
    "total = data.shape[0]\n",
    "percentages = []\n",
    "functional_types = ['method_declaration', 'class_declaration', 'assignment', 'method_call', 'return',\n",
    "                            'requires', 'enum',\n",
    "                            'loop', 'conditional', 'var_declaration', 'package_import', 'loop_exit', 'empty']\n",
    "for func_type in functional_types:\n",
    "    num = data[data['functional_type'] == func_type].shape[0]\n",
    "    func_type_percent = (num * 100) / total\n",
    "    percentages.append(func_type_percent)\n",
    "\n",
    "fig, axes = plt.subplots(ncols=1, nrows=1)\n",
    "plt.title('Comment type vs percentage of non-information: yes')\n",
    "plt.xlabel('Comment type')\n",
    "plt.ylabel('Non-information: yes- percentage [%]')\n",
    "\n",
    "objects = ('method_declaration',\n",
    "           'class_declaration',\n",
    "           'assignment', 'method_call',\n",
    "           'return','requires', 'enum',\n",
    "            'loop', 'conditional',\n",
    "           'var_declaration', 'package_import',\n",
    "           'loop_exit', 'empty')\n",
    "\n",
    "y_pos = np.arange(len(objects))\n",
    "percentage = percentages\n",
    "\n",
    "plt.bar(y_pos, percentage, align='center', alpha=0.5)\n",
    "plt.xticks(y_pos, objects)\n",
    "plt.xticks(rotation = 90) # Rotates X-Axis Ticks by 45-degrees\n",
    "\n",
    "plt.show()"
   ]
  },
  {
   "cell_type": "markdown",
   "metadata": {},
   "source": [
    "Data functional types and non-information percentage"
   ]
  },
  {
   "cell_type": "code",
   "execution_count": 22,
   "metadata": {
    "pycharm": {
     "name": "#%%\n"
    }
   },
   "outputs": [
    {
     "data": {
      "image/png": "[encoded data removed]",
      "text/plain": [
       "<Figure size 432x288 with 1 Axes>"
      ]
     },
     "metadata": {
      "needs_background": "light"
     },
     "output_type": "display_data"
    }
   ],
   "source": [
    "percentages = []\n",
    "functional_types = ['method_declaration', 'class_declaration', 'assignment', 'method_call', 'return',\n",
    "                            'requires', 'enum',\n",
    "                            'loop', 'conditional', 'var_declaration', 'package_import', 'loop_exit', 'empty']\n",
    "for func_type in functional_types:\n",
    "    func_type_data = data[data['functional_type'] == func_type]\n",
    "    func_type_num = func_type_data.shape[0]\n",
    "    func_type_no_info = func_type_data[func_type_data['non-information'] == 'yes'].shape[0]\n",
    "    func_type_percent = 0\n",
    "    if func_type_num == 0:\n",
    "        print(func_type)\n",
    "    else:\n",
    "        func_type_percent = (func_type_no_info * 100) / func_type_num\n",
    "    percentages.append(func_type_percent)\n",
    "\n",
    "fig, axes = plt.subplots(ncols=1, nrows=1)\n",
    "plt.title('Comment type vs percentage of non-information: yes')\n",
    "plt.xlabel('Comment type')\n",
    "plt.ylabel('Non-information: yes- percentage [%]')\n",
    "\n",
    "objects = ('method_declaration',\n",
    "           'class_declaration',\n",
    "           'assignment', 'method_call',\n",
    "           'return','requires', 'enum',\n",
    "            'loop', 'conditional',\n",
    "           'var_declaration', 'package_import',\n",
    "           'loop_exit', 'empty')\n",
    "\n",
    "y_pos = np.arange(len(objects))\n",
    "percentage = percentages\n",
    "\n",
    "plt.bar(y_pos, percentage, align='center', alpha=0.5)\n",
    "plt.xticks(y_pos, objects)\n",
    "plt.xticks(rotation = 90) # Rotates X-Axis Ticks by 45-degrees\n",
    "\n",
    "plt.show()"
   ]
  }
 ],
 "metadata": {
  "kernelspec": {
   "display_name": "Python 3",
   "language": "python",
   "name": "python3"
  },
  "language_info": {
   "codemirror_mode": {
    "name": "ipython",
    "version": 3
   },
   "file_extension": ".py",
   "mimetype": "text/x-python",
   "name": "python",
   "nbconvert_exporter": "python",
   "pygments_lexer": "ipython3",
   "version": "3.8.3"
  }
 },
 "nbformat": 4,
 "nbformat_minor": 1
}
