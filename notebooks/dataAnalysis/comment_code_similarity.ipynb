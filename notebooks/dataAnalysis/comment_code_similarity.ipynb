{
 "cells": [
  {
   "cell_type": "markdown",
   "metadata": {
    "collapsed": true,
    "pycharm": {
     "name": "#%% md\n"
    }
   },
   "source": [
    "Get data"
   ]
  },
  {
   "cell_type": "code",
   "execution_count": 5,
   "metadata": {
    "pycharm": {
     "is_executing": true,
     "name": "#%%\n"
    }
   },
   "outputs": [
    {
     "data": {
      "text/html": [
       "<div>\n",
       "<style scoped>\n",
       "    .dataframe tbody tr th:only-of-type {\n",
       "        vertical-align: middle;\n",
       "    }\n",
       "\n",
       "    .dataframe tbody tr th {\n",
       "        vertical-align: top;\n",
       "    }\n",
       "\n",
       "    .dataframe thead th {\n",
       "        text-align: right;\n",
       "    }\n",
       "</style>\n",
       "<table border=\"1\" class=\"dataframe\">\n",
       "  <thead>\n",
       "    <tr style=\"text-align: right;\">\n",
       "      <th></th>\n",
       "      <th>comment</th>\n",
       "      <th>non-information</th>\n",
       "      <th>code</th>\n",
       "    </tr>\n",
       "  </thead>\n",
       "  <tbody>\n",
       "    <tr>\n",
       "      <th>0</th>\n",
       "      <td>@implNote taken from {@link com.sun.javafx.sce...</td>\n",
       "      <td>yes</td>\n",
       "      <td>\"public static void showContextMenu(TextArea t...</td>\n",
       "    </tr>\n",
       "    <tr>\n",
       "      <th>1</th>\n",
       "      <td>icon.setToolTipText(printedViewModel.getLocali...</td>\n",
       "      <td>yes</td>\n",
       "      <td>TABLE_ICONS.put(SpecialField.PRINTED, icon);</td>\n",
       "    </tr>\n",
       "    <tr>\n",
       "      <th>2</th>\n",
       "      <td>Synchronize changes of the underlying date val...</td>\n",
       "      <td>no</td>\n",
       "      <td>BindingsHelper.bindBidirectional(valueProperty...</td>\n",
       "    </tr>\n",
       "    <tr>\n",
       "      <th>3</th>\n",
       "      <td>Ask if the user really wants to close the give...</td>\n",
       "      <td>yes</td>\n",
       "      <td>\"private boolean confirmClose(BasePanel panel)...</td>\n",
       "    </tr>\n",
       "    <tr>\n",
       "      <th>4</th>\n",
       "      <td>css: information *</td>\n",
       "      <td>no</td>\n",
       "      <td>INTEGRITY_INFO(MaterialDesignIcon.INFORMATION),</td>\n",
       "    </tr>\n",
       "  </tbody>\n",
       "</table>\n",
       "</div>"
      ],
      "text/plain": [
       "                                             comment non-information  \\\n",
       "0  @implNote taken from {@link com.sun.javafx.sce...             yes   \n",
       "1  icon.setToolTipText(printedViewModel.getLocali...             yes   \n",
       "2  Synchronize changes of the underlying date val...              no   \n",
       "3  Ask if the user really wants to close the give...             yes   \n",
       "4                                 css: information *              no   \n",
       "\n",
       "                                                code  \n",
       "0  \"public static void showContextMenu(TextArea t...  \n",
       "1       TABLE_ICONS.put(SpecialField.PRINTED, icon);  \n",
       "2  BindingsHelper.bindBidirectional(valueProperty...  \n",
       "3  \"private boolean confirmClose(BasePanel panel)...  \n",
       "4    INTEGRITY_INFO(MaterialDesignIcon.INFORMATION),  "
      ]
     },
     "execution_count": 5,
     "metadata": {},
     "output_type": "execute_result"
    }
   ],
   "source": [
    "import pandas as pd\n",
    "from helpers.data_preprocessing import DataProcesser\n",
    "\n",
    "from helpers.data_loader import DataLoader\n",
    "from helpers.data_preprocessing import DataProcesser\n",
    "\n",
    "def load_comments():\n",
    "    code = DataLoader.load_csv_file(\"./../../data/code_data.csv\", ['code'])\n",
    "\n",
    "    def load_longer_code():\n",
    "        f = open(\"./../../data/code.txt\", \"r\")\n",
    "        Lines = f.readlines()\n",
    "        code_long = []\n",
    "        for line in Lines:\n",
    "            line = line.rstrip()\n",
    "            # print(line)\n",
    "            code_long.append(line)\n",
    "        f.close()\n",
    "        return code_long\n",
    "\n",
    "    code_long = load_longer_code()\n",
    "    for index, row in code.iterrows():\n",
    "        curr_code_long = code_long[index]\n",
    "        if curr_code_long != '':\n",
    "            row['code'] = curr_code_long\n",
    "    return code\n",
    "code = load_comments()\n",
    "code.head()\n",
    "\n",
    "df = pd.read_csv(\"./../../data/train_set_0520.csv\", usecols=['comment', 'non-information'])\n",
    "df['code'] = code['code']\n",
    "df.head()"
   ]
  },
  {
   "cell_type": "markdown",
   "metadata": {
    "pycharm": {
     "name": "#%% md\n"
    }
   },
   "source": [
    "Preprocess comments and code\n",
    "1. Separate words from camel case and snake case,\n",
    "2. To lower case,\n",
    "3. Remove java tags and keywords,\n",
    "4. remove accented chars,\n",
    "5. stem"
   ]
  },
  {
   "cell_type": "code",
   "execution_count": 8,
   "metadata": {
    "pycharm": {
     "is_executing": true,
     "name": "#%%\n"
    }
   },
   "outputs": [
    {
     "data": {
      "text/html": [
       "<div>\n",
       "<style scoped>\n",
       "    .dataframe tbody tr th:only-of-type {\n",
       "        vertical-align: middle;\n",
       "    }\n",
       "\n",
       "    .dataframe tbody tr th {\n",
       "        vertical-align: top;\n",
       "    }\n",
       "\n",
       "    .dataframe thead th {\n",
       "        text-align: right;\n",
       "    }\n",
       "</style>\n",
       "<table border=\"1\" class=\"dataframe\">\n",
       "  <thead>\n",
       "    <tr style=\"text-align: right;\">\n",
       "      <th></th>\n",
       "      <th>comment</th>\n",
       "      <th>non-information</th>\n",
       "      <th>code</th>\n",
       "    </tr>\n",
       "  </thead>\n",
       "  <tbody>\n",
       "    <tr>\n",
       "      <th>0</th>\n",
       "      <td>impl note taken link com sun javafx scene cont...</td>\n",
       "      <td>yes</td>\n",
       "      <td>show context menu text area text area context ...</td>\n",
       "    </tr>\n",
       "    <tr>\n",
       "      <th>1</th>\n",
       "      <td>icon set tool tip text pred view model get local</td>\n",
       "      <td>yes</td>\n",
       "      <td>tabl icon put special field pred icon</td>\n",
       "    </tr>\n",
       "    <tr>\n",
       "      <th>2</th>\n",
       "      <td>synchron chang underli date valu tempor access...</td>\n",
       "      <td>no</td>\n",
       "      <td>bind helper bind bidirect valu properti tempor...</td>\n",
       "    </tr>\n",
       "    <tr>\n",
       "      <th>3</th>\n",
       "      <td>ask user realli want close given databas</td>\n",
       "      <td>yes</td>\n",
       "      <td>confirm close base panel panel filenam panel g...</td>\n",
       "    </tr>\n",
       "    <tr>\n",
       "      <th>4</th>\n",
       "      <td>css inmat</td>\n",
       "      <td>no</td>\n",
       "      <td>egriti info materi design icon inmat</td>\n",
       "    </tr>\n",
       "  </tbody>\n",
       "</table>\n",
       "</div>"
      ],
      "text/plain": [
       "                                             comment non-information  \\\n",
       "0  impl note taken link com sun javafx scene cont...             yes   \n",
       "1   icon set tool tip text pred view model get local             yes   \n",
       "2  synchron chang underli date valu tempor access...              no   \n",
       "3           ask user realli want close given databas             yes   \n",
       "4                                          css inmat              no   \n",
       "\n",
       "                                                code  \n",
       "0  show context menu text area text area context ...  \n",
       "1              tabl icon put special field pred icon  \n",
       "2  bind helper bind bidirect valu properti tempor...  \n",
       "3  confirm close base panel panel filenam panel g...  \n",
       "4               egriti info materi design icon inmat  "
      ]
     },
     "execution_count": 8,
     "metadata": {},
     "output_type": "execute_result"
    }
   ],
   "source": [
    "df['comment'] = df['comment'].apply(str)\n",
    "df['comment'] = df['comment'].apply(DataProcesser.extract_camel_case)\n",
    "df['comment'] = df['comment'].apply(DataProcesser.remove_stopwords)\n",
    "df['comment'] = df['comment'].apply(DataProcesser.extract_snake_case)\n",
    "df['comment'] = df['comment'].apply(DataProcesser.preprocess)\n",
    "\n",
    "df['code'] = df['code'].apply(str)\n",
    "df['code'] = df['code'].apply(DataProcesser.extract_camel_case)\n",
    "df['code'] = df['code'].apply(DataProcesser.extract_snake_case)\n",
    "df['code'] = df['code'].apply(DataProcesser.remove_java_keywords)\n",
    "df['code'] = df['code'].apply(DataProcesser.preprocess_code)\n",
    "df['code'] = df['code'].apply(DataProcesser.remove_stopwords)\n",
    "\n",
    "df.head()"
   ]
  },
  {
   "cell_type": "markdown",
   "metadata": {
    "pycharm": {
     "name": "#%% md\n"
    }
   },
   "source": [
    "Count common words between code and comments"
   ]
  },
  {
   "cell_type": "code",
   "execution_count": 9,
   "metadata": {
    "pycharm": {
     "is_executing": true,
     "name": "#%%\n"
    }
   },
   "outputs": [
    {
     "data": {
      "text/html": [
       "<div>\n",
       "<style scoped>\n",
       "    .dataframe tbody tr th:only-of-type {\n",
       "        vertical-align: middle;\n",
       "    }\n",
       "\n",
       "    .dataframe tbody tr th {\n",
       "        vertical-align: top;\n",
       "    }\n",
       "\n",
       "    .dataframe thead th {\n",
       "        text-align: right;\n",
       "    }\n",
       "</style>\n",
       "<table border=\"1\" class=\"dataframe\">\n",
       "  <thead>\n",
       "    <tr style=\"text-align: right;\">\n",
       "      <th></th>\n",
       "      <th>comment</th>\n",
       "      <th>non-information</th>\n",
       "      <th>code</th>\n",
       "      <th>word_counts</th>\n",
       "      <th>jaccard_score</th>\n",
       "      <th>cosine_score</th>\n",
       "    </tr>\n",
       "  </thead>\n",
       "  <tbody>\n",
       "    <tr>\n",
       "      <th>0</th>\n",
       "      <td>impl note taken link com sun javafx scene cont...</td>\n",
       "      <td>yes</td>\n",
       "      <td>show context menu text area text area context ...</td>\n",
       "      <td>0.036810</td>\n",
       "      <td>0.018750</td>\n",
       "      <td>1.267550</td>\n",
       "    </tr>\n",
       "    <tr>\n",
       "      <th>1</th>\n",
       "      <td>icon set tool tip text pred view model get local</td>\n",
       "      <td>yes</td>\n",
       "      <td>tabl icon put special field pred icon</td>\n",
       "      <td>0.235294</td>\n",
       "      <td>0.133333</td>\n",
       "      <td>0.457809</td>\n",
       "    </tr>\n",
       "    <tr>\n",
       "      <th>2</th>\n",
       "      <td>synchron chang underli date valu tempor access...</td>\n",
       "      <td>no</td>\n",
       "      <td>bind helper bind bidirect valu properti tempor...</td>\n",
       "      <td>0.352941</td>\n",
       "      <td>0.214286</td>\n",
       "      <td>0.744121</td>\n",
       "    </tr>\n",
       "    <tr>\n",
       "      <th>3</th>\n",
       "      <td>ask user realli want close given databas</td>\n",
       "      <td>yes</td>\n",
       "      <td>confirm close base panel panel filenam panel g...</td>\n",
       "      <td>0.044199</td>\n",
       "      <td>0.022599</td>\n",
       "      <td>0.432192</td>\n",
       "    </tr>\n",
       "    <tr>\n",
       "      <th>4</th>\n",
       "      <td>css inmat</td>\n",
       "      <td>no</td>\n",
       "      <td>egriti info materi design icon inmat</td>\n",
       "      <td>0.250000</td>\n",
       "      <td>0.142857</td>\n",
       "      <td>0.225480</td>\n",
       "    </tr>\n",
       "  </tbody>\n",
       "</table>\n",
       "</div>"
      ],
      "text/plain": [
       "                                             comment non-information  \\\n",
       "0  impl note taken link com sun javafx scene cont...             yes   \n",
       "1   icon set tool tip text pred view model get local             yes   \n",
       "2  synchron chang underli date valu tempor access...              no   \n",
       "3           ask user realli want close given databas             yes   \n",
       "4                                          css inmat              no   \n",
       "\n",
       "                                                code  word_counts  \\\n",
       "0  show context menu text area text area context ...     0.036810   \n",
       "1              tabl icon put special field pred icon     0.235294   \n",
       "2  bind helper bind bidirect valu properti tempor...     0.352941   \n",
       "3  confirm close base panel panel filenam panel g...     0.044199   \n",
       "4               egriti info materi design icon inmat     0.250000   \n",
       "\n",
       "   jaccard_score  cosine_score  \n",
       "0       0.018750      1.267550  \n",
       "1       0.133333      0.457809  \n",
       "2       0.214286      0.744121  \n",
       "3       0.022599      0.432192  \n",
       "4       0.142857      0.225480  "
      ]
     },
     "execution_count": 9,
     "metadata": {},
     "output_type": "execute_result"
    }
   ],
   "source": [
    "from helpers.textual_analysis import *\n",
    "from helpers.text_similarity import TextSimilarity\n",
    "\n",
    "df['word_counts'] = df.apply(lambda row: count_common_words(row['comment'], row['code']), axis=1)\n",
    "df['jaccard_score'] = df.apply(lambda row: TextSimilarity.get_similarity_score(\n",
    "            s1=row['comment'],\n",
    "            s2=row['code'],\n",
    "            type='JACC'), axis=1)\n",
    "df['cosine_score'] = df.apply(lambda row: TextSimilarity.get_similarity_score(\n",
    "            s1=row['comment'],\n",
    "            s2=row['code'],\n",
    "            type='COSINE_TFIDF'), axis=1)\n",
    "df.head()\n"
   ]
  },
  {
   "cell_type": "markdown",
   "metadata": {},
   "source": [
    "Average of counts of common words between code and comments for non-information: yes"
   ]
  },
  {
   "cell_type": "code",
   "execution_count": 17,
   "metadata": {
    "pycharm": {
     "is_executing": true,
     "name": "#%%\n"
    }
   },
   "outputs": [
    {
     "data": {
      "text/plain": [
       "0.16925471917458418"
      ]
     },
     "execution_count": 17,
     "metadata": {},
     "output_type": "execute_result"
    }
   ],
   "source": [
    "from helpers.textual_analysis import *\n",
    "\n",
    "bad_comments = df[df['non-information'] == 'yes']\n",
    "bad_comments['cosine_score'].mean()"
   ]
  },
  {
   "cell_type": "markdown",
   "metadata": {},
   "source": [
    "Average of counts of common words between code and comments for non-information: yes"
   ]
  },
  {
   "cell_type": "code",
   "execution_count": null,
   "metadata": {
    "pycharm": {
     "is_executing": true,
     "name": "#%%\n"
    }
   },
   "outputs": [],
   "source": []
  },
  {
   "cell_type": "code",
   "execution_count": 18,
   "metadata": {
    "pycharm": {
     "is_executing": true,
     "name": "#%%\n"
    }
   },
   "outputs": [
    {
     "name": "stdout",
     "output_type": "stream",
     "text": [
      "0.1\n",
      "0.2\n",
      "0.30000000000000004\n",
      "0.4\n",
      "0.5\n",
      "0.6000000000000001\n",
      "0.7000000000000001\n",
      "0.8\n",
      "0.9\n",
      "1.0\n"
     ]
    },
    {
     "data": {
      "image/png": "[encoded data removed]",
      "text/plain": [
       "<Figure size 640x480 with 1 Axes>"
      ]
     },
     "metadata": {},
     "output_type": "display_data"
    }
   ],
   "source": [
    "arr = []\n",
    "for i in range(1, 11):\n",
    "    comments_smaller = bad_comments[bad_comments['cosine_score'] < 0.1 * i]\n",
    "    print(i*0.1)\n",
    "    num = comments_smaller[comments_smaller['cosine_score'] > (0.1 * i - 0.1)].shape[0]\n",
    "    arr.append(num)\n",
    "\n",
    "import matplotlib.pyplot as plt\n",
    "import numpy as np\n",
    "\n",
    "plt.rcdefaults()\n",
    "fig, ax = plt.subplots()\n",
    "\n",
    "# Example data\n",
    "people = ('0-0.1', '0.1-0.2', '0.2-0.3', '0.3-0.4', '0.4-0.5', '0.5-0.6', '0.6-0.7', '0.7-0.8', '0.8-0.9', '0.9-1')\n",
    "y_pos =  np.arange(len(people))\n",
    "performance = np.array(arr)\n",
    "error = np.random.rand(len(people))\n",
    "\n",
    "ax.barh(y_pos, performance, xerr=error, align='center')\n",
    "ax.set_yticks(y_pos)\n",
    "ax.set_yticklabels(people)\n",
    "ax.invert_yaxis()  # labels read top-to-bottom\n",
    "ax.set_xlabel('Comments number')\n",
    "ax.set_title('Cosine similairty of non-informative comments and code')\n",
    "\n",
    "plt.show()"
   ]
  },
  {
   "cell_type": "markdown",
   "metadata": {},
   "source": [
    "Average of counts of common words between code and comments for non-information: no"
   ]
  },
  {
   "cell_type": "code",
   "execution_count": 19,
   "metadata": {
    "pycharm": {
     "is_executing": true,
     "name": "#%%\n"
    }
   },
   "outputs": [
    {
     "data": {
      "text/plain": [
       "0.38784936061098424"
      ]
     },
     "execution_count": 19,
     "metadata": {},
     "output_type": "execute_result"
    }
   ],
   "source": [
    "from helpers.textual_analysis import *\n",
    "\n",
    "bad_comments = df[df['non-information'] == 'no']\n",
    "bad_comments['cosine_score'].mean()"
   ]
  },
  {
   "cell_type": "markdown",
   "metadata": {},
   "source": [
    "Average of counts of common words between code and comments for non-information: yes"
   ]
  },
  {
   "cell_type": "code",
   "execution_count": 21,
   "metadata": {
    "pycharm": {
     "is_executing": true,
     "name": "#%%\n"
    }
   },
   "outputs": [
    {
     "name": "stdout",
     "output_type": "stream",
     "text": [
      "0.1\n",
      "0.2\n",
      "0.30000000000000004\n",
      "0.4\n",
      "0.5\n",
      "0.6000000000000001\n",
      "0.7000000000000001\n",
      "0.8\n",
      "0.9\n",
      "1.0\n",
      "[5, 16, 89, 16, 54, 20, 35, 45, 23, 30]\n",
      "[5, 16, 89, 16, 54, 20, 35, 45, 23, 30]\n"
     ]
    },
    {
     "data": {
      "image/png": "[encoded data removed]",
      "text/plain": [
       "<Figure size 640x480 with 1 Axes>"
      ]
     },
     "metadata": {},
     "output_type": "display_data"
    }
   ],
   "source": [
    "arr = []\n",
    "for i in range(1, 11):\n",
    "    comments_smaller = bad_comments[bad_comments['cosine_score'] < 0.1 * i]\n",
    "    print(i*0.1)\n",
    "    num = comments_smaller[comments_smaller['cosine_score'] > (0.1 * i - 0.1)].shape[0]\n",
    "    arr.append(num)\n",
    "print(arr)\n",
    "print(arr)\n",
    "import matplotlib.pyplot as plt\n",
    "import numpy as np\n",
    "\n",
    "plt.rcdefaults()\n",
    "fig, ax = plt.subplots()\n",
    "\n",
    "# Example data\n",
    "people = ('0-0.1', '0.1-0.2', '0.2-0.3', '0.3-0.4', '0.4-0.5', '0.5-0.6', '0.6-0.7', '0.7-0.8', '0.8-0.9', '0.9-1')\n",
    "y_pos =  np.arange(len(people))\n",
    "performance = np.array(arr)\n",
    "error = np.random.rand(len(people))\n",
    "\n",
    "ax.barh(y_pos, performance, xerr=error, align='center')\n",
    "ax.set_yticks(y_pos)\n",
    "ax.set_yticklabels(people)\n",
    "ax.invert_yaxis()  # labels read top-to-bottom\n",
    "ax.set_xlabel('Comments number')\n",
    "ax.set_title('Cosine similarity of informative comments and code')\n",
    "\n",
    "plt.show()"
   ]
  },
  {
   "cell_type": "markdown",
   "metadata": {},
   "source": [
    "Median of counts of common words between code and comments for non-information: yes"
   ]
  },
  {
   "cell_type": "code",
   "execution_count": 21,
   "metadata": {
    "pycharm": {
     "is_executing": true,
     "name": "#%%\n"
    }
   },
   "outputs": [
    {
     "data": {
      "text/plain": [
       "0.0"
      ]
     },
     "execution_count": 21,
     "metadata": {},
     "output_type": "execute_result"
    }
   ],
   "source": [
    "from helpers.textual_analysis import *\n",
    "\n",
    "bad_comments = df[df['non-information'] == 'yes']\n",
    "bad_comments['cosine_score'].median()\n"
   ]
  },
  {
   "cell_type": "markdown",
   "metadata": {},
   "source": [
    "Average of counts of common words between code and comments for non-information: no"
   ]
  },
  {
   "cell_type": "code",
   "execution_count": 22,
   "metadata": {
    "pycharm": {
     "is_executing": true,
     "name": "#%%\n"
    }
   },
   "outputs": [
    {
     "data": {
      "text/plain": [
       "0.05903010462568318"
      ]
     },
     "execution_count": 22,
     "metadata": {},
     "output_type": "execute_result"
    }
   ],
   "source": [
    "from helpers.textual_analysis import *\n",
    "\n",
    "bad_comments = df[df['non-information'] == 'no']\n",
    "bad_comments['cosine_score'].median()"
   ]
  },
  {
   "cell_type": "markdown",
   "metadata": {},
   "source": [
    "Average of counts of common words between code and comments for non-information: yes"
   ]
  },
  {
   "cell_type": "code",
   "execution_count": 23,
   "metadata": {
    "pycharm": {
     "is_executing": true,
     "name": "#%%\n"
    }
   },
   "outputs": [
    {
     "data": {
      "text/plain": [
       "0.5445586616921404"
      ]
     },
     "execution_count": 23,
     "metadata": {},
     "output_type": "execute_result"
    }
   ],
   "source": [
    "from helpers.textual_analysis import *\n",
    "\n",
    "bad_comments = df[df['non-information'] == 'yes']\n",
    "bad_comments = bad_comments[bad_comments['cosine_score'] != 0]\n",
    "bad_comments['cosine_score'].mean()\n"
   ]
  },
  {
   "cell_type": "markdown",
   "metadata": {},
   "source": [
    "Average of counts of common words between code and comments for non-information: no"
   ]
  },
  {
   "cell_type": "code",
   "execution_count": null,
   "metadata": {
    "pycharm": {
     "is_executing": true,
     "name": "#%%\n"
    }
   },
   "outputs": [],
   "source": [
    "from helpers.textual_analysis import *\n",
    "\n",
    "good_comments = df[df['non-information'] == 'no']\n",
    "good_comments = good_comments[good_comments['cosine_score'] != 0]\n",
    "good_comments['cosine_score'].mean()"
   ]
  },
  {
   "cell_type": "markdown",
   "metadata": {},
   "source": [
    "The number of no common words- between comment and code for non-information: yes"
   ]
  },
  {
   "cell_type": "code",
   "execution_count": null,
   "metadata": {
    "pycharm": {
     "is_executing": true,
     "name": "#%%\n"
    }
   },
   "outputs": [],
   "source": [
    "from helpers.textual_analysis import *\n",
    "\n",
    "bad_comments = df[df['non-information'] == 'yes']\n",
    "bad_comments_num = bad_comments.count()\n",
    "bad_comments = bad_comments[bad_comments['cosine_score'] == 0]\n",
    "bad_comments.count()/bad_comments_num"
   ]
  },
  {
   "cell_type": "markdown",
   "metadata": {},
   "source": [
    "The number of no common words- between comment and code  for non-information: no"
   ]
  },
  {
   "cell_type": "code",
   "execution_count": null,
   "metadata": {
    "pycharm": {
     "is_executing": true,
     "name": "#%%\n"
    }
   },
   "outputs": [],
   "source": [
    "from helpers.textual_analysis import *\n",
    "\n",
    "good_comments = df[df['non-information'] == 'no']\n",
    "good_comments_num = good_comments.count()\n",
    "good_comments = good_comments[good_comments['cosine_score'] == 0]\n",
    "good_comments.count()/good_comments_num\n",
    "\n",
    "\n"
   ]
  }
 ],
 "metadata": {
  "kernelspec": {
   "display_name": "Python 3",
   "language": "python",
   "name": "python3"
  },
  "language_info": {
   "codemirror_mode": {
    "name": "ipython",
    "version": 3
   },
   "file_extension": ".py",
   "mimetype": "text/x-python",
   "name": "python",
   "nbconvert_exporter": "python",
   "pygments_lexer": "ipython3",
   "version": "3.8.3"
  }
 },
 "nbformat": 4,
 "nbformat_minor": 1
}