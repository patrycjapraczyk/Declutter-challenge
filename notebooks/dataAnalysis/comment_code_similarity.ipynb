{
 "cells": [
  {
   "cell_type": "markdown",
   "metadata": {
    "collapsed": true,
    "pycharm": {
     "name": "#%% md\n"
    }
   },
   "source": [
    "Get data"
   ]
  },
  {
   "cell_type": "code",
   "execution_count": 2,
   "outputs": [
    {
     "data": {
      "text/plain": "                                             comment non-information  \\\n0  @implNote taken from {@link com.sun.javafx.sce...             yes   \n1  icon.setToolTipText(printedViewModel.getLocali...             yes   \n2  Synchronize changes of the underlying date val...              no   \n3  Ask if the user really wants to close the give...             yes   \n4                                 css: information *              no   \n\n                                                code  \n0  public static void showContextMenu(TextArea te...  \n1               TABLE_ICONS.put(SpecialField.PRINTED  \n2   BindingsHelper.bindBidirectional(valueProperty()  \n3    private boolean confirmClose(BasePanel panel) {  \n4     INTEGRITY_INFO(MaterialDesignIcon.INFORMATION)  ",
      "text/html": "<div>\n<style scoped>\n    .dataframe tbody tr th:only-of-type {\n        vertical-align: middle;\n    }\n\n    .dataframe tbody tr th {\n        vertical-align: top;\n    }\n\n    .dataframe thead th {\n        text-align: right;\n    }\n</style>\n<table border=\"1\" class=\"dataframe\">\n  <thead>\n    <tr style=\"text-align: right;\">\n      <th></th>\n      <th>comment</th>\n      <th>non-information</th>\n      <th>code</th>\n    </tr>\n  </thead>\n  <tbody>\n    <tr>\n      <th>0</th>\n      <td>@implNote taken from {@link com.sun.javafx.sce...</td>\n      <td>yes</td>\n      <td>public static void showContextMenu(TextArea te...</td>\n    </tr>\n    <tr>\n      <th>1</th>\n      <td>icon.setToolTipText(printedViewModel.getLocali...</td>\n      <td>yes</td>\n      <td>TABLE_ICONS.put(SpecialField.PRINTED</td>\n    </tr>\n    <tr>\n      <th>2</th>\n      <td>Synchronize changes of the underlying date val...</td>\n      <td>no</td>\n      <td>BindingsHelper.bindBidirectional(valueProperty()</td>\n    </tr>\n    <tr>\n      <th>3</th>\n      <td>Ask if the user really wants to close the give...</td>\n      <td>yes</td>\n      <td>private boolean confirmClose(BasePanel panel) {</td>\n    </tr>\n    <tr>\n      <th>4</th>\n      <td>css: information *</td>\n      <td>no</td>\n      <td>INTEGRITY_INFO(MaterialDesignIcon.INFORMATION)</td>\n    </tr>\n  </tbody>\n</table>\n</div>"
     },
     "execution_count": 2,
     "metadata": {},
     "output_type": "execute_result"
    }
   ],
   "source": [
    "import pandas as pd\n",
    "from helpers.data_preprocessing import DataProcesser\n",
    "\n",
    "code = pd.read_csv(\"./../../data/code_data.csv\", usecols=['code'])\n",
    "df = pd.read_csv(\"./../../data/train_set_0520.csv\", usecols=['comment', 'non-information'])\n",
    "df['code'] = code['code']\n",
    "df.head()"
   ],
   "metadata": {
    "collapsed": false,
    "pycharm": {
     "name": "#%%\n"
    }
   }
  },
  {
   "cell_type": "markdown",
   "source": [
    "Preprocess comments and code\n",
    "1. Separate words from camel case and snake case,\n",
    "2. To lower case,\n",
    "3. Remove java tags and keywords,\n",
    "4. remove accented chars,\n",
    "5. stem"
   ],
   "metadata": {
    "collapsed": false,
    "pycharm": {
     "name": "#%% md\n"
    }
   }
  },
  {
   "cell_type": "code",
   "execution_count": 5,
   "outputs": [
    {
     "data": {
      "text/plain": "                                             comment non-information  \\\n0                               impl note taken from             yes   \n1  icon set tool tip text print view model get local             yes   \n2  synchron chang of the underli date valu with t...              no   \n3  ask if the user realli want to close the given...             yes   \n4                                         css inform              no   \n\n                                      code  \n0    show context menu text area text area  \n1           tabl icon put special field pr  \n2  bind helper bind bidirect valu properti  \n3    privat confirm close base panel panel  \n4          egr info materi design icon inm  ",
      "text/html": "<div>\n<style scoped>\n    .dataframe tbody tr th:only-of-type {\n        vertical-align: middle;\n    }\n\n    .dataframe tbody tr th {\n        vertical-align: top;\n    }\n\n    .dataframe thead th {\n        text-align: right;\n    }\n</style>\n<table border=\"1\" class=\"dataframe\">\n  <thead>\n    <tr style=\"text-align: right;\">\n      <th></th>\n      <th>comment</th>\n      <th>non-information</th>\n      <th>code</th>\n    </tr>\n  </thead>\n  <tbody>\n    <tr>\n      <th>0</th>\n      <td>impl note taken from</td>\n      <td>yes</td>\n      <td>show context menu text area text area</td>\n    </tr>\n    <tr>\n      <th>1</th>\n      <td>icon set tool tip text print view model get local</td>\n      <td>yes</td>\n      <td>tabl icon put special field pr</td>\n    </tr>\n    <tr>\n      <th>2</th>\n      <td>synchron chang of the underli date valu with t...</td>\n      <td>no</td>\n      <td>bind helper bind bidirect valu properti</td>\n    </tr>\n    <tr>\n      <th>3</th>\n      <td>ask if the user realli want to close the given...</td>\n      <td>yes</td>\n      <td>privat confirm close base panel panel</td>\n    </tr>\n    <tr>\n      <th>4</th>\n      <td>css inform</td>\n      <td>no</td>\n      <td>egr info materi design icon inm</td>\n    </tr>\n  </tbody>\n</table>\n</div>"
     },
     "execution_count": 5,
     "metadata": {},
     "output_type": "execute_result"
    }
   ],
   "source": [
    "dp = DataProcesser()\n",
    "df['comment'] = df['comment'].apply(str)\n",
    "df['comment'] = df['comment'].apply(dp.extract_camel_case)\n",
    "df['comment'] = df['comment'].apply(dp.extract_snake_case)\n",
    "df['comment'] = df['comment'].apply(dp.preprocess)\n",
    "\n",
    "df['code'] = df['code'].apply(str)\n",
    "df['code'] = df['code'].apply(dp.extract_camel_case)\n",
    "df['code'] = df['code'].apply(dp.extract_snake_case)\n",
    "df['code'] = df['code'].apply(dp.remove_java_keywords)\n",
    "df['code'] = df['code'].apply(dp.preprocess)\n",
    "df.head()"
   ],
   "metadata": {
    "collapsed": false,
    "pycharm": {
     "name": "#%%\n"
    }
   }
  },
  {
   "cell_type": "markdown",
   "source": [
    "Count common words between code and comments"
   ],
   "metadata": {
    "collapsed": false,
    "pycharm": {
     "name": "#%% md\n"
    }
   }
  },
  {
   "cell_type": "code",
   "execution_count": 7,
   "outputs": [
    {
     "data": {
      "text/plain": "                                             comment non-information  \\\n0                               impl note taken from             yes   \n1  icon set tool tip text print view model get local             yes   \n2  synchron chang of the underli date valu with t...              no   \n3  ask if the user realli want to close the given...             yes   \n4                                         css inform              no   \n\n                                      code  word_counts  \n0    show context menu text area text area            0  \n1           tabl icon put special field pr            1  \n2  bind helper bind bidirect valu properti            1  \n3    privat confirm close base panel panel            1  \n4          egr info materi design icon inm            0  ",
      "text/html": "<div>\n<style scoped>\n    .dataframe tbody tr th:only-of-type {\n        vertical-align: middle;\n    }\n\n    .dataframe tbody tr th {\n        vertical-align: top;\n    }\n\n    .dataframe thead th {\n        text-align: right;\n    }\n</style>\n<table border=\"1\" class=\"dataframe\">\n  <thead>\n    <tr style=\"text-align: right;\">\n      <th></th>\n      <th>comment</th>\n      <th>non-information</th>\n      <th>code</th>\n      <th>word_counts</th>\n    </tr>\n  </thead>\n  <tbody>\n    <tr>\n      <th>0</th>\n      <td>impl note taken from</td>\n      <td>yes</td>\n      <td>show context menu text area text area</td>\n      <td>0</td>\n    </tr>\n    <tr>\n      <th>1</th>\n      <td>icon set tool tip text print view model get local</td>\n      <td>yes</td>\n      <td>tabl icon put special field pr</td>\n      <td>1</td>\n    </tr>\n    <tr>\n      <th>2</th>\n      <td>synchron chang of the underli date valu with t...</td>\n      <td>no</td>\n      <td>bind helper bind bidirect valu properti</td>\n      <td>1</td>\n    </tr>\n    <tr>\n      <th>3</th>\n      <td>ask if the user realli want to close the given...</td>\n      <td>yes</td>\n      <td>privat confirm close base panel panel</td>\n      <td>1</td>\n    </tr>\n    <tr>\n      <th>4</th>\n      <td>css inform</td>\n      <td>no</td>\n      <td>egr info materi design icon inm</td>\n      <td>0</td>\n    </tr>\n  </tbody>\n</table>\n</div>"
     },
     "execution_count": 7,
     "metadata": {},
     "output_type": "execute_result"
    }
   ],
   "source": [
    "from helpers.textual_analysis import *\n",
    "\n",
    "df['word_counts'] = df.apply (lambda row: count_common_words(row['comment'], row['code']), axis=1)\n",
    "df.head()\n"
   ],
   "metadata": {
    "collapsed": false,
    "pycharm": {
     "name": "#%%\n"
    }
   }
  },
  {
   "cell_type": "markdown",
   "source": [
    "Average of counts of common words between code and comments for non-information: yes"
   ],
   "metadata": {
    "collapsed": false
   }
  },
  {
   "cell_type": "code",
   "execution_count": 9,
   "outputs": [
    {
     "data": {
      "text/plain": "0.14323607427055704"
     },
     "execution_count": 9,
     "metadata": {},
     "output_type": "execute_result"
    }
   ],
   "source": [
    "from helpers.textual_analysis import *\n",
    "\n",
    "bad_comments = df[df['non-information'] == 'yes']\n",
    "bad_comments['word_counts'].mean()\n"
   ],
   "metadata": {
    "collapsed": false,
    "pycharm": {
     "name": "#%%\n"
    }
   }
  },
  {
   "cell_type": "markdown",
   "source": [
    "Average of counts of common words between code and comments for non-information: no"
   ],
   "metadata": {
    "collapsed": false
   }
  },
  {
   "cell_type": "code",
   "execution_count": 10,
   "outputs": [
    {
     "data": {
      "text/plain": "0.2944325481798715"
     },
     "execution_count": 10,
     "metadata": {},
     "output_type": "execute_result"
    }
   ],
   "source": [
    "from helpers.textual_analysis import *\n",
    "\n",
    "bad_comments = df[df['non-information'] == 'no']\n",
    "bad_comments['word_counts'].mean()"
   ],
   "metadata": {
    "collapsed": false,
    "pycharm": {
     "name": "#%%\n"
    }
   }
  }
 ],
 "metadata": {
  "kernelspec": {
   "display_name": "Python 3",
   "language": "python",
   "name": "python3"
  },
  "language_info": {
   "codemirror_mode": {
    "name": "ipython",
    "version": 2
   },
   "file_extension": ".py",
   "mimetype": "text/x-python",
   "name": "python",
   "nbconvert_exporter": "python",
   "pygments_lexer": "ipython2",
   "version": "2.7.6"
  }
 },
 "nbformat": 4,
 "nbformat_minor": 0
}