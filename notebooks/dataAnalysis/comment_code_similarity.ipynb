{
 "cells": [
  {
   "cell_type": "markdown",
   "metadata": {
    "collapsed": true,
    "pycharm": {
     "name": "#%% md\n"
    }
   },
   "source": [
    "Get data"
   ]
  },
  {
   "cell_type": "code",
   "execution_count": 1,
   "metadata": {
    "pycharm": {
     "name": "#%%\n"
    }
   },
   "outputs": [
    {
     "data": {
      "text/plain": "                                             comment non-information  \\\n0  @implNote taken from {@link com.sun.javafx.sce...             yes   \n1  icon.setToolTipText(printedViewModel.getLocali...             yes   \n2  Synchronize changes of the underlying date val...              no   \n3  Ask if the user really wants to close the give...             yes   \n4                                 css: information *              no   \n\n                                                code  \n0  public static void showContextMenu(TextArea te...  \n1               TABLE_ICONS.put(SpecialField.PRINTED  \n2   BindingsHelper.bindBidirectional(valueProperty()  \n3    private boolean confirmClose(BasePanel panel) {  \n4     INTEGRITY_INFO(MaterialDesignIcon.INFORMATION)  ",
      "text/html": "<div>\n<style scoped>\n    .dataframe tbody tr th:only-of-type {\n        vertical-align: middle;\n    }\n\n    .dataframe tbody tr th {\n        vertical-align: top;\n    }\n\n    .dataframe thead th {\n        text-align: right;\n    }\n</style>\n<table border=\"1\" class=\"dataframe\">\n  <thead>\n    <tr style=\"text-align: right;\">\n      <th></th>\n      <th>comment</th>\n      <th>non-information</th>\n      <th>code</th>\n    </tr>\n  </thead>\n  <tbody>\n    <tr>\n      <th>0</th>\n      <td>@implNote taken from {@link com.sun.javafx.sce...</td>\n      <td>yes</td>\n      <td>public static void showContextMenu(TextArea te...</td>\n    </tr>\n    <tr>\n      <th>1</th>\n      <td>icon.setToolTipText(printedViewModel.getLocali...</td>\n      <td>yes</td>\n      <td>TABLE_ICONS.put(SpecialField.PRINTED</td>\n    </tr>\n    <tr>\n      <th>2</th>\n      <td>Synchronize changes of the underlying date val...</td>\n      <td>no</td>\n      <td>BindingsHelper.bindBidirectional(valueProperty()</td>\n    </tr>\n    <tr>\n      <th>3</th>\n      <td>Ask if the user really wants to close the give...</td>\n      <td>yes</td>\n      <td>private boolean confirmClose(BasePanel panel) {</td>\n    </tr>\n    <tr>\n      <th>4</th>\n      <td>css: information *</td>\n      <td>no</td>\n      <td>INTEGRITY_INFO(MaterialDesignIcon.INFORMATION)</td>\n    </tr>\n  </tbody>\n</table>\n</div>"
     },
     "execution_count": 1,
     "metadata": {},
     "output_type": "execute_result"
    }
   ],
   "source": [
    "import pandas as pd\n",
    "from helpers.data_preprocessing import DataProcesser\n",
    "\n",
    "code = pd.read_csv(\"./../../data/code_data.csv\", usecols=['code'])\n",
    "df = pd.read_csv(\"./../../data/train_set_0520.csv\", usecols=['comment', 'non-information'])\n",
    "df['code'] = code['code']\n",
    "df.head()"
   ]
  },
  {
   "cell_type": "markdown",
   "metadata": {
    "pycharm": {
     "name": "#%% md\n"
    }
   },
   "source": [
    "Preprocess comments and code\n",
    "1. Separate words from camel case and snake case,\n",
    "2. To lower case,\n",
    "3. Remove java tags and keywords,\n",
    "4. remove accented chars,\n",
    "5. stem"
   ]
  },
  {
   "cell_type": "code",
   "execution_count": 2,
   "metadata": {
    "pycharm": {
     "name": "#%%\n"
    }
   },
   "outputs": [
    {
     "data": {
      "text/plain": "                                             comment non-information  \\\n0  impl note taken link com sun javafx scene cont...             yes   \n1  icon set tool tip text print view model get local             yes   \n2  synchron chang underli date valu tempor access...              no   \n3           ask user realli want close given databas             yes   \n4                                         css inform              no   \n\n                                      code  \n0    show context menu text area text area  \n1         tabl icon put special field pred  \n2  bind helper bind bidirect valu properti  \n3           confirm close base panel panel  \n4     egriti info materi design icon inmat  ",
      "text/html": "<div>\n<style scoped>\n    .dataframe tbody tr th:only-of-type {\n        vertical-align: middle;\n    }\n\n    .dataframe tbody tr th {\n        vertical-align: top;\n    }\n\n    .dataframe thead th {\n        text-align: right;\n    }\n</style>\n<table border=\"1\" class=\"dataframe\">\n  <thead>\n    <tr style=\"text-align: right;\">\n      <th></th>\n      <th>comment</th>\n      <th>non-information</th>\n      <th>code</th>\n    </tr>\n  </thead>\n  <tbody>\n    <tr>\n      <th>0</th>\n      <td>impl note taken link com sun javafx scene cont...</td>\n      <td>yes</td>\n      <td>show context menu text area text area</td>\n    </tr>\n    <tr>\n      <th>1</th>\n      <td>icon set tool tip text print view model get local</td>\n      <td>yes</td>\n      <td>tabl icon put special field pred</td>\n    </tr>\n    <tr>\n      <th>2</th>\n      <td>synchron chang underli date valu tempor access...</td>\n      <td>no</td>\n      <td>bind helper bind bidirect valu properti</td>\n    </tr>\n    <tr>\n      <th>3</th>\n      <td>ask user realli want close given databas</td>\n      <td>yes</td>\n      <td>confirm close base panel panel</td>\n    </tr>\n    <tr>\n      <th>4</th>\n      <td>css inform</td>\n      <td>no</td>\n      <td>egriti info materi design icon inmat</td>\n    </tr>\n  </tbody>\n</table>\n</div>"
     },
     "execution_count": 2,
     "metadata": {},
     "output_type": "execute_result"
    }
   ],
   "source": [
    "df['comment'] = df['comment'].apply(str)\n",
    "df['comment'] = df['comment'].apply(DataProcesser.extract_camel_case)\n",
    "#df['comment'] = df['comment'].apply(DataProcesser.remove_stopwords)\n",
    "df['comment'] = df['comment'].apply(DataProcesser.extract_snake_case)\n",
    "df['comment'] = df['comment'].apply(DataProcesser.preprocess)\n",
    "\n",
    "df['code'] = df['code'].apply(str)\n",
    "df['code'] = df['code'].apply(DataProcesser.extract_camel_case)\n",
    "df['code'] = df['code'].apply(DataProcesser.extract_snake_case)\n",
    "df['code'] = df['code'].apply(DataProcesser.remove_java_keywords)\n",
    "df['code'] = df['code'].apply(DataProcesser.preprocess_code)\n",
    "#df['code'] = df['code'].apply(DataProcesser.remove_stopwords)\n",
    "\n",
    "df.head()"
   ]
  },
  {
   "cell_type": "markdown",
   "metadata": {
    "pycharm": {
     "name": "#%% md\n"
    }
   },
   "source": [
    "Count common words between code and comments"
   ]
  },
  {
   "cell_type": "code",
   "execution_count": 3,
   "metadata": {
    "pycharm": {
     "name": "#%%\n"
    }
   },
   "outputs": [
    {
     "data": {
      "text/plain": "                                             comment non-information  \\\n0  impl note taken link com sun javafx scene cont...             yes   \n1  icon set tool tip text print view model get local             yes   \n2  synchron chang underli date valu tempor access...              no   \n3           ask user realli want close given databas             yes   \n4                                         css inform              no   \n\n                                      code  word_counts  \n0    show context menu text area text area     0.137931  \n1         tabl icon put special field pred     0.062500  \n2  bind helper bind bidirect valu properti     0.071429  \n3           confirm close base panel panel     0.083333  \n4     egriti info materi design icon inmat     0.000000  ",
      "text/html": "<div>\n<style scoped>\n    .dataframe tbody tr th:only-of-type {\n        vertical-align: middle;\n    }\n\n    .dataframe tbody tr th {\n        vertical-align: top;\n    }\n\n    .dataframe thead th {\n        text-align: right;\n    }\n</style>\n<table border=\"1\" class=\"dataframe\">\n  <thead>\n    <tr style=\"text-align: right;\">\n      <th></th>\n      <th>comment</th>\n      <th>non-information</th>\n      <th>code</th>\n      <th>word_counts</th>\n    </tr>\n  </thead>\n  <tbody>\n    <tr>\n      <th>0</th>\n      <td>impl note taken link com sun javafx scene cont...</td>\n      <td>yes</td>\n      <td>show context menu text area text area</td>\n      <td>0.137931</td>\n    </tr>\n    <tr>\n      <th>1</th>\n      <td>icon set tool tip text print view model get local</td>\n      <td>yes</td>\n      <td>tabl icon put special field pred</td>\n      <td>0.062500</td>\n    </tr>\n    <tr>\n      <th>2</th>\n      <td>synchron chang underli date valu tempor access...</td>\n      <td>no</td>\n      <td>bind helper bind bidirect valu properti</td>\n      <td>0.071429</td>\n    </tr>\n    <tr>\n      <th>3</th>\n      <td>ask user realli want close given databas</td>\n      <td>yes</td>\n      <td>confirm close base panel panel</td>\n      <td>0.083333</td>\n    </tr>\n    <tr>\n      <th>4</th>\n      <td>css inform</td>\n      <td>no</td>\n      <td>egriti info materi design icon inmat</td>\n      <td>0.000000</td>\n    </tr>\n  </tbody>\n</table>\n</div>"
     },
     "execution_count": 3,
     "metadata": {},
     "output_type": "execute_result"
    }
   ],
   "source": [
    "from helpers.textual_analysis import *\n",
    "\n",
    "df['word_counts'] = df.apply(lambda row: count_common_words(row['comment'], row['code']), axis=1)\n",
    "df.head()\n"
   ]
  },
  {
   "cell_type": "markdown",
   "metadata": {},
   "source": [
    "Average of counts of common words between code and comments for non-information: yes"
   ]
  },
  {
   "cell_type": "code",
   "execution_count": 4,
   "metadata": {
    "pycharm": {
     "name": "#%%\n"
    }
   },
   "outputs": [
    {
     "data": {
      "text/plain": "0.010206434935631241"
     },
     "execution_count": 4,
     "metadata": {},
     "output_type": "execute_result"
    }
   ],
   "source": [
    "from helpers.textual_analysis import *\n",
    "\n",
    "bad_comments = df[df['non-information'] == 'yes']\n",
    "bad_comments['word_counts'].mean()"
   ]
  },
  {
   "cell_type": "markdown",
   "metadata": {},
   "source": [
    "Average of counts of common words between code and comments for non-information: yes"
   ]
  },
  {
   "cell_type": "code",
   "execution_count": 5,
   "metadata": {
    "pycharm": {
     "name": "#%%\n"
    }
   },
   "outputs": [
    {
     "data": {
      "text/plain": "0.010206434935631241"
     },
     "execution_count": 5,
     "metadata": {},
     "output_type": "execute_result"
    }
   ],
   "source": [
    "from helpers.textual_analysis import *\n",
    "\n",
    "bad_comments = df[df['non-information'] == 'yes']\n",
    "bad_comments['word_counts'].mean()\n"
   ]
  },
  {
   "cell_type": "markdown",
   "metadata": {},
   "source": [
    "Average of counts of common words between code and comments for non-information: no"
   ]
  },
  {
   "cell_type": "code",
   "execution_count": 6,
   "metadata": {
    "pycharm": {
     "name": "#%%\n"
    }
   },
   "outputs": [
    {
     "data": {
      "text/plain": "0.012009830881928822"
     },
     "execution_count": 6,
     "metadata": {},
     "output_type": "execute_result"
    }
   ],
   "source": [
    "from helpers.textual_analysis import *\n",
    "\n",
    "bad_comments = df[df['non-information'] == 'no']\n",
    "bad_comments['word_counts'].mean()"
   ]
  },
  {
   "cell_type": "code",
   "execution_count": 6,
   "metadata": {},
   "outputs": [],
   "source": []
  }
 ],
 "metadata": {
  "kernelspec": {
   "display_name": "Python 3",
   "language": "python",
   "name": "python3"
  },
  "language_info": {
   "codemirror_mode": {
    "name": "ipython",
    "version": 3
   },
   "file_extension": ".py",
   "mimetype": "text/x-python",
   "name": "python",
   "nbconvert_exporter": "python",
   "pygments_lexer": "ipython3",
   "version": "3.8.3"
  }
 },
 "nbformat": 4,
 "nbformat_minor": 1
}