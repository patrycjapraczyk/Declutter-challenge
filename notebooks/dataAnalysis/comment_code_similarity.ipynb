{
 "cells": [
  {
   "cell_type": "markdown",
   "metadata": {
    "collapsed": true,
    "pycharm": {
     "name": "#%% md\n"
    }
   },
   "source": [
    "Get data"
   ]
  },
  {
   "cell_type": "code",
   "execution_count": 13,
   "metadata": {
    "pycharm": {
     "name": "#%%\n"
    }
   },
   "outputs": [
    {
     "data": {
      "text/plain": "                                             comment non-information  \\\n0  @implNote taken from {@link com.sun.javafx.sce...             yes   \n1  icon.setToolTipText(printedViewModel.getLocali...             yes   \n2  Synchronize changes of the underlying date val...              no   \n3  Ask if the user really wants to close the give...             yes   \n4                                 css: information *              no   \n\n                                                code  \n0  \"public static void showContextMenu(TextArea t...  \n1       TABLE_ICONS.put(SpecialField.PRINTED, icon);  \n2  BindingsHelper.bindBidirectional(valueProperty...  \n3  \"private boolean confirmClose(BasePanel panel)...  \n4    INTEGRITY_INFO(MaterialDesignIcon.INFORMATION),  ",
      "text/html": "<div>\n<style scoped>\n    .dataframe tbody tr th:only-of-type {\n        vertical-align: middle;\n    }\n\n    .dataframe tbody tr th {\n        vertical-align: top;\n    }\n\n    .dataframe thead th {\n        text-align: right;\n    }\n</style>\n<table border=\"1\" class=\"dataframe\">\n  <thead>\n    <tr style=\"text-align: right;\">\n      <th></th>\n      <th>comment</th>\n      <th>non-information</th>\n      <th>code</th>\n    </tr>\n  </thead>\n  <tbody>\n    <tr>\n      <th>0</th>\n      <td>@implNote taken from {@link com.sun.javafx.sce...</td>\n      <td>yes</td>\n      <td>\"public static void showContextMenu(TextArea t...</td>\n    </tr>\n    <tr>\n      <th>1</th>\n      <td>icon.setToolTipText(printedViewModel.getLocali...</td>\n      <td>yes</td>\n      <td>TABLE_ICONS.put(SpecialField.PRINTED, icon);</td>\n    </tr>\n    <tr>\n      <th>2</th>\n      <td>Synchronize changes of the underlying date val...</td>\n      <td>no</td>\n      <td>BindingsHelper.bindBidirectional(valueProperty...</td>\n    </tr>\n    <tr>\n      <th>3</th>\n      <td>Ask if the user really wants to close the give...</td>\n      <td>yes</td>\n      <td>\"private boolean confirmClose(BasePanel panel)...</td>\n    </tr>\n    <tr>\n      <th>4</th>\n      <td>css: information *</td>\n      <td>no</td>\n      <td>INTEGRITY_INFO(MaterialDesignIcon.INFORMATION),</td>\n    </tr>\n  </tbody>\n</table>\n</div>"
     },
     "execution_count": 13,
     "metadata": {},
     "output_type": "execute_result"
    }
   ],
   "source": [
    "import pandas as pd\n",
    "from helpers.data_preprocessing import DataProcesser\n",
    "\n",
    "from helpers.data_loader import DataLoader\n",
    "from helpers.data_preprocessing import DataProcesser\n",
    "\n",
    "def load_comments():\n",
    "    code = DataLoader.load_csv_file(\"./../../data/code_data.csv\", ['code'])\n",
    "\n",
    "    def load_longer_code():\n",
    "        f = open(\"./../../data/code.txt\", \"r\")\n",
    "        Lines = f.readlines()\n",
    "        code_long = []\n",
    "        for line in Lines:\n",
    "            line = line.rstrip()\n",
    "            # print(line)\n",
    "            code_long.append(line)\n",
    "        f.close()\n",
    "        return code_long\n",
    "\n",
    "    code_long = load_longer_code()\n",
    "    for index, row in code.iterrows():\n",
    "        curr_code_long = code_long[index]\n",
    "        if curr_code_long != '':\n",
    "            row['code'] = curr_code_long\n",
    "    return code\n",
    "code = load_comments()\n",
    "code.head()\n",
    "\n",
    "df = pd.read_csv(\"./../../data/train_set_0520.csv\", usecols=['comment', 'non-information'])\n",
    "df['code'] = code['code']\n",
    "df.head()"
   ]
  },
  {
   "cell_type": "markdown",
   "metadata": {
    "pycharm": {
     "name": "#%% md\n"
    }
   },
   "source": [
    "Preprocess comments and code\n",
    "1. Separate words from camel case and snake case,\n",
    "2. To lower case,\n",
    "3. Remove java tags and keywords,\n",
    "4. remove accented chars,\n",
    "5. stem"
   ]
  },
  {
   "cell_type": "code",
   "execution_count": 14,
   "metadata": {
    "pycharm": {
     "name": "#%%\n"
    }
   },
   "outputs": [
    {
     "data": {
      "text/plain": "                                             comment non-information  \\\n0  impl note taken link com sun javafx scene cont...             yes   \n1   icon set tool tip text pred view model get local             yes   \n2  synchron chang underli date valu tempor access...              no   \n3           ask user realli want close given databas             yes   \n4                                          css inmat              no   \n\n                                                code  \n0  show context menu text area text area context ...  \n1              tabl icon put special field pred icon  \n2  bind helper bind bidirect valu properti tempor...  \n3  confirm close base panel panel filenam panel g...  \n4               egriti info materi design icon inmat  ",
      "text/html": "<div>\n<style scoped>\n    .dataframe tbody tr th:only-of-type {\n        vertical-align: middle;\n    }\n\n    .dataframe tbody tr th {\n        vertical-align: top;\n    }\n\n    .dataframe thead th {\n        text-align: right;\n    }\n</style>\n<table border=\"1\" class=\"dataframe\">\n  <thead>\n    <tr style=\"text-align: right;\">\n      <th></th>\n      <th>comment</th>\n      <th>non-information</th>\n      <th>code</th>\n    </tr>\n  </thead>\n  <tbody>\n    <tr>\n      <th>0</th>\n      <td>impl note taken link com sun javafx scene cont...</td>\n      <td>yes</td>\n      <td>show context menu text area text area context ...</td>\n    </tr>\n    <tr>\n      <th>1</th>\n      <td>icon set tool tip text pred view model get local</td>\n      <td>yes</td>\n      <td>tabl icon put special field pred icon</td>\n    </tr>\n    <tr>\n      <th>2</th>\n      <td>synchron chang underli date valu tempor access...</td>\n      <td>no</td>\n      <td>bind helper bind bidirect valu properti tempor...</td>\n    </tr>\n    <tr>\n      <th>3</th>\n      <td>ask user realli want close given databas</td>\n      <td>yes</td>\n      <td>confirm close base panel panel filenam panel g...</td>\n    </tr>\n    <tr>\n      <th>4</th>\n      <td>css inmat</td>\n      <td>no</td>\n      <td>egriti info materi design icon inmat</td>\n    </tr>\n  </tbody>\n</table>\n</div>"
     },
     "execution_count": 14,
     "metadata": {},
     "output_type": "execute_result"
    }
   ],
   "source": [
    "df['comment'] = df['comment'].apply(str)\n",
    "df['comment'] = df['comment'].apply(DataProcesser.extract_camel_case)\n",
    "df['comment'] = df['comment'].apply(DataProcesser.remove_stopwords)\n",
    "df['comment'] = df['comment'].apply(DataProcesser.extract_snake_case)\n",
    "df['comment'] = df['comment'].apply(DataProcesser.preprocess)\n",
    "\n",
    "df['code'] = df['code'].apply(str)\n",
    "df['code'] = df['code'].apply(DataProcesser.extract_camel_case)\n",
    "df['code'] = df['code'].apply(DataProcesser.extract_snake_case)\n",
    "df['code'] = df['code'].apply(DataProcesser.remove_java_keywords)\n",
    "df['code'] = df['code'].apply(DataProcesser.preprocess_code)\n",
    "df['code'] = df['code'].apply(DataProcesser.remove_stopwords)\n",
    "\n",
    "df.head()"
   ]
  },
  {
   "cell_type": "markdown",
   "metadata": {
    "pycharm": {
     "name": "#%% md\n"
    }
   },
   "source": [
    "Count common words between code and comments"
   ]
  },
  {
   "cell_type": "code",
   "execution_count": 17,
   "metadata": {
    "pycharm": {
     "name": "#%%\n"
    }
   },
   "outputs": [
    {
     "data": {
      "text/plain": "                                             comment non-information  \\\n0  impl note taken link com sun javafx scene cont...             yes   \n1   icon set tool tip text pred view model get local             yes   \n2  synchron chang underli date valu tempor access...              no   \n3           ask user realli want close given databas             yes   \n4                                          css inmat              no   \n\n                                                code  word_counts  \n0  show context menu text area text area context ...     0.036810  \n1              tabl icon put special field pred icon     0.235294  \n2  bind helper bind bidirect valu properti tempor...     0.352941  \n3  confirm close base panel panel filenam panel g...     0.044199  \n4               egriti info materi design icon inmat     0.250000  ",
      "text/html": "<div>\n<style scoped>\n    .dataframe tbody tr th:only-of-type {\n        vertical-align: middle;\n    }\n\n    .dataframe tbody tr th {\n        vertical-align: top;\n    }\n\n    .dataframe thead th {\n        text-align: right;\n    }\n</style>\n<table border=\"1\" class=\"dataframe\">\n  <thead>\n    <tr style=\"text-align: right;\">\n      <th></th>\n      <th>comment</th>\n      <th>non-information</th>\n      <th>code</th>\n      <th>word_counts</th>\n    </tr>\n  </thead>\n  <tbody>\n    <tr>\n      <th>0</th>\n      <td>impl note taken link com sun javafx scene cont...</td>\n      <td>yes</td>\n      <td>show context menu text area text area context ...</td>\n      <td>0.036810</td>\n    </tr>\n    <tr>\n      <th>1</th>\n      <td>icon set tool tip text pred view model get local</td>\n      <td>yes</td>\n      <td>tabl icon put special field pred icon</td>\n      <td>0.235294</td>\n    </tr>\n    <tr>\n      <th>2</th>\n      <td>synchron chang underli date valu tempor access...</td>\n      <td>no</td>\n      <td>bind helper bind bidirect valu properti tempor...</td>\n      <td>0.352941</td>\n    </tr>\n    <tr>\n      <th>3</th>\n      <td>ask user realli want close given databas</td>\n      <td>yes</td>\n      <td>confirm close base panel panel filenam panel g...</td>\n      <td>0.044199</td>\n    </tr>\n    <tr>\n      <th>4</th>\n      <td>css inmat</td>\n      <td>no</td>\n      <td>egriti info materi design icon inmat</td>\n      <td>0.250000</td>\n    </tr>\n  </tbody>\n</table>\n</div>"
     },
     "execution_count": 17,
     "metadata": {},
     "output_type": "execute_result"
    }
   ],
   "source": [
    "from helpers.textual_analysis import *\n",
    "\n",
    "df['word_counts'] = df.apply(lambda row: count_common_words(row['comment'], row['code']), axis=1)\n",
    "df.head()\n"
   ]
  },
  {
   "cell_type": "markdown",
   "metadata": {},
   "source": [
    "Average of counts of common words between code and comments for non-information: yes"
   ]
  },
  {
   "cell_type": "code",
   "execution_count": 20,
   "metadata": {
    "pycharm": {
     "name": "#%%\n"
    }
   },
   "outputs": [
    {
     "data": {
      "text/plain": "0.08412258363570375"
     },
     "execution_count": 20,
     "metadata": {},
     "output_type": "execute_result"
    }
   ],
   "source": [
    "from helpers.textual_analysis import *\n",
    "\n",
    "bad_comments = df[df['non-information'] == 'yes']\n",
    "bad_comments['word_counts'].mean()\n"
   ]
  },
  {
   "cell_type": "markdown",
   "metadata": {},
   "source": [
    "Average of counts of common words between code and comments for non-information: no"
   ]
  },
  {
   "cell_type": "code",
   "execution_count": 21,
   "metadata": {
    "pycharm": {
     "name": "#%%\n"
    }
   },
   "outputs": [
    {
     "data": {
      "text/plain": "0.07760273940592917"
     },
     "execution_count": 21,
     "metadata": {},
     "output_type": "execute_result"
    }
   ],
   "source": [
    "from helpers.textual_analysis import *\n",
    "\n",
    "bad_comments = df[df['non-information'] == 'no']\n",
    "bad_comments['word_counts'].mean()"
   ]
  },
  {
   "cell_type": "code",
   "execution_count": 6,
   "metadata": {},
   "outputs": [],
   "source": []
  },
  {
   "cell_type": "markdown",
   "source": [
    "Median of counts of common words between code and comments for non-information: yes"
   ],
   "metadata": {
    "collapsed": false
   }
  },
  {
   "cell_type": "code",
   "execution_count": 7,
   "outputs": [
    {
     "data": {
      "text/plain": "0.0"
     },
     "execution_count": 7,
     "metadata": {},
     "output_type": "execute_result"
    }
   ],
   "source": [
    "from helpers.textual_analysis import *\n",
    "\n",
    "bad_comments = df[df['non-information'] == 'yes']\n",
    "bad_comments['word_counts'].median()\n"
   ],
   "metadata": {
    "collapsed": false,
    "pycharm": {
     "name": "#%%\n"
    }
   }
  },
  {
   "cell_type": "markdown",
   "source": [
    "Average of counts of common words between code and comments for non-information: no"
   ],
   "metadata": {
    "collapsed": false
   }
  },
  {
   "cell_type": "code",
   "execution_count": 8,
   "outputs": [
    {
     "data": {
      "text/plain": "0.008583690987124463"
     },
     "execution_count": 8,
     "metadata": {},
     "output_type": "execute_result"
    }
   ],
   "source": [
    "from helpers.textual_analysis import *\n",
    "\n",
    "bad_comments = df[df['non-information'] == 'no']\n",
    "bad_comments['word_counts'].median()"
   ],
   "metadata": {
    "collapsed": false,
    "pycharm": {
     "name": "#%%\n"
    }
   }
  },
  {
   "cell_type": "markdown",
   "source": [
    "Average of counts of common words between code and comments for non-information: yes"
   ],
   "metadata": {
    "collapsed": false
   }
  },
  {
   "cell_type": "code",
   "execution_count": 9,
   "outputs": [
    {
     "data": {
      "text/plain": "0.270655269088786"
     },
     "execution_count": 9,
     "metadata": {},
     "output_type": "execute_result"
    }
   ],
   "source": [
    "from helpers.textual_analysis import *\n",
    "\n",
    "bad_comments = df[df['non-information'] == 'yes']\n",
    "bad_comments = bad_comments[bad_comments['word_counts'] != 0]\n",
    "bad_comments['word_counts'].mean()\n"
   ],
   "metadata": {
    "collapsed": false,
    "pycharm": {
     "name": "#%%\n"
    }
   }
  },
  {
   "cell_type": "markdown",
   "source": [
    "Average of counts of common words between code and comments for non-information: no"
   ],
   "metadata": {
    "collapsed": false
   }
  },
  {
   "cell_type": "code",
   "execution_count": 10,
   "outputs": [
    {
     "data": {
      "text/plain": "0.15370992280617662"
     },
     "execution_count": 10,
     "metadata": {},
     "output_type": "execute_result"
    }
   ],
   "source": [
    "from helpers.textual_analysis import *\n",
    "\n",
    "good_comments = df[df['non-information'] == 'no']\n",
    "good_comments = good_comments[good_comments['word_counts'] != 0]\n",
    "good_comments['word_counts'].mean()"
   ],
   "metadata": {
    "collapsed": false,
    "pycharm": {
     "name": "#%%\n"
    }
   }
  },
  {
   "cell_type": "markdown",
   "source": [
    "The number of no common words- between comment and code for non-information: yes"
   ],
   "metadata": {
    "collapsed": false
   }
  },
  {
   "cell_type": "code",
   "execution_count": 24,
   "outputs": [
    {
     "data": {
      "text/plain": "comment            0.689189\nnon-information    0.689189\ncode               0.689189\nword_counts        0.689189\ndtype: float64"
     },
     "execution_count": 24,
     "metadata": {},
     "output_type": "execute_result"
    }
   ],
   "source": [
    "from helpers.textual_analysis import *\n",
    "\n",
    "bad_comments = df[df['non-information'] == 'yes']\n",
    "bad_comments_num = bad_comments.count()\n",
    "bad_comments = bad_comments[bad_comments['word_counts'] == 0]\n",
    "bad_comments.count()/bad_comments_num"
   ],
   "metadata": {
    "collapsed": false,
    "pycharm": {
     "name": "#%%\n"
    }
   }
  },
  {
   "cell_type": "markdown",
   "source": [
    "The number of no common words- between comment and code  for non-information: no"
   ],
   "metadata": {
    "collapsed": false
   }
  },
  {
   "cell_type": "code",
   "execution_count": 25,
   "outputs": [
    {
     "data": {
      "text/plain": "comment            0.495135\nnon-information    0.495135\ncode               0.495135\nword_counts        0.495135\ndtype: float64"
     },
     "execution_count": 25,
     "metadata": {},
     "output_type": "execute_result"
    }
   ],
   "source": [
    "from helpers.textual_analysis import *\n",
    "\n",
    "good_comments = df[df['non-information'] == 'no']\n",
    "good_comments_num = good_comments.count()\n",
    "good_comments = good_comments[good_comments['word_counts'] == 0]\n",
    "good_comments.count()/good_comments_num\n",
    "\n",
    "\n"
   ],
   "metadata": {
    "collapsed": false,
    "pycharm": {
     "name": "#%%\n"
    }
   }
  }
 ],
 "metadata": {
  "kernelspec": {
   "display_name": "Python 3",
   "language": "python",
   "name": "python3"
  },
  "language_info": {
   "codemirror_mode": {
    "name": "ipython",
    "version": 3
   },
   "file_extension": ".py",
   "mimetype": "text/x-python",
   "name": "python",
   "nbconvert_exporter": "python",
   "pygments_lexer": "ipython3",
   "version": "3.8.3"
  }
 },
 "nbformat": 4,
 "nbformat_minor": 1
}