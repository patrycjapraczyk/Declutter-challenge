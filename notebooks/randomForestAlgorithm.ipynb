{
 "cells": [
  {
   "cell_type": "markdown",
   "metadata": {
    "collapsed": true,
    "pycharm": {
     "name": "#%% md\n"
    }
   },
   "source": [
    "Feature weight in Random Forest algorithm"
   ]
  },
  {
   "cell_type": "code",
   "execution_count": 1,
   "metadata": {
    "pycharm": {
     "name": "#%%\n"
    }
   },
   "outputs": [
    {
     "name": "stdout",
     "output_type": "stream",
     "text": [
      "\n",
      "LogisticRegression\n",
      "Accuracy Score : 0.7804878048780488\n",
      "Precision Score : 0.6224489795918368\n",
      "Recall Score : 0.6354166666666666\n",
      "F1 Score : 0.6288659793814433\n",
      "\n",
      "RandomForest\n",
      "Accuracy Score : 0.7835365853658537\n",
      "Precision Score : 0.6470588235294118\n",
      "Recall Score : 0.5729166666666666\n",
      "F1 Score : 0.6077348066298343\n",
      "\n",
      "GradientBoosting\n",
      "Accuracy Score : 0.7408536585365854\n",
      "Precision Score : 0.8235294117647058\n",
      "Recall Score : 0.14583333333333334\n",
      "F1 Score : 0.24778761061946902\n",
      "\n",
      "SVM\n",
      "Accuracy Score : 0.75\n",
      "Precision Score : 0.5603448275862069\n",
      "Recall Score : 0.6770833333333334\n",
      "F1 Score : 0.6132075471698112\n",
      "\n",
      "LogisticRegression\n",
      "Accuracy Score : 0.7804878048780488\n",
      "Precision Score : 0.6111111111111112\n",
      "Recall Score : 0.6875\n",
      "F1 Score : 0.6470588235294118\n",
      "\n",
      "RandomForest\n",
      "Accuracy Score : 0.75\n",
      "Precision Score : 0.5583333333333333\n",
      "Recall Score : 0.6979166666666666\n",
      "F1 Score : 0.6203703703703703\n",
      "\n",
      "GradientBoosting\n",
      "Accuracy Score : 0.7926829268292683\n",
      "Precision Score : 0.6891891891891891\n",
      "Recall Score : 0.53125\n",
      "F1 Score : 0.6000000000000001\n",
      "\n",
      "SVM\n",
      "Accuracy Score : 0.7835365853658537\n",
      "Precision Score : 0.616822429906542\n",
      "Recall Score : 0.6875\n",
      "F1 Score : 0.6502463054187193\n"
     ]
    },
    {
     "data": {
      "text/plain": "<Figure size 468x324 with 1 Axes>",
      "image/png": "[encoded data removed]"
     },
     "metadata": {
      "needs_background": "light"
     },
     "output_type": "display_data"
    },
    {
     "data": {
      "text/plain": "<Figure size 360x360 with 0 Axes>"
     },
     "metadata": {},
     "output_type": "display_data"
    }
   ],
   "source": [
    "from models.model_exec import ModelExec\n",
    "import numpy as np\n",
    "import matplotlib.pyplot as plt\n",
    "\n",
    "model_exec = ModelExec()\n",
    "model = model_exec.execute_model('RandomForest')\n",
    "model = model.get_model()\n",
    "\n",
    "def get_plot_weight(col):\n",
    "    y = model.feature_importances_\n",
    "    # plot\n",
    "    fig, ax = plt.subplots()\n",
    "    width = 0.4  # the width of the bars\n",
    "    ind = np.arange(len(y))  # the x locations for the groups\n",
    "    ax.barh(ind, y, width, color=\"green\")\n",
    "    ax.set_yticks(ind + width / 10)\n",
    "    ax.set_yticklabels(col, minor=False)\n",
    "\n",
    "    plt.title(\"Feature importance in RandomForest Classifier\")\n",
    "    plt.xlabel(\"Relative importance\")\n",
    "    plt.ylabel(\"feature\")\n",
    "    plt.figure(figsize=(5, 5))\n",
    "    fig.set_size_inches(6.5, 4.5, forward=True)\n",
    "\n",
    "get_plot_weight([\"Comment Length\", \"Stopwords number\", \"Comment/code similarity\"])"
   ]
  },
  {
   "cell_type": "markdown",
   "metadata": {},
   "source": [
    "Feature weight in Random Forest algorithm with comments"
   ]
  },
  {
   "cell_type": "code",
   "execution_count": null,
   "metadata": {
    "pycharm": {
     "is_executing": true,
     "name": "#%%\n"
    }
   },
   "outputs": [],
   "source": [
    "model_exec = ModelExec(include_comments=True)\n",
    "model = model_exec.execute_model('RandomForest')\n",
    "model = model.get_model\n",
    "get_plot_weight([\"Comment Length\", \"Stopwords number\", \"Comment/code similarity\", \"Comments\"])\n"
   ]
  },
  {
   "cell_type": "markdown",
   "metadata": {
    "pycharm": {
     "name": "#%% md\n"
    }
   },
   "source": [
    "Get decision trees in Random Forest algorithm"
   ]
  },
  {
   "cell_type": "code",
   "execution_count": null,
   "metadata": {
    "pycharm": {
     "is_executing": true,
     "name": "#%%\n"
    }
   },
   "outputs": [],
   "source": [
    "estimator = model.estimators_[5]\n",
    "from sklearn.tree import export_graphviz\n",
    "\n",
    "export_graphviz(estimator,\n",
    "                out_file='tree.dot',\n",
    "                feature_names = [\"Comment Length\", \"Stopwords number\", \"Comment/code similarity\"],\n",
    "                class_names = ['non-information: yes', 'non-information: no'],\n",
    "                rounded = True, proportion = False,\n",
    "                precision = 2, filled = True)\n",
    "from subprocess import call\n",
    "call(['dot', '-Tpng', 'tree.dot', '-o', 'tree.png', '-Gdpi=600'])\n",
    "from IPython.display import Image\n",
    "\n",
    "Image(filename = 'tree.png')"
   ]
  },
  {
   "cell_type": "code",
   "execution_count": null,
   "metadata": {
    "pycharm": {
     "is_executing": true
    }
   },
   "outputs": [],
   "source": []
  }
 ],
 "metadata": {
  "kernelspec": {
   "display_name": "Python 3",
   "language": "python",
   "name": "python3"
  },
  "language_info": {
   "codemirror_mode": {
    "name": "ipython",
    "version": 3
   },
   "file_extension": ".py",
   "mimetype": "text/x-python",
   "name": "python",
   "nbconvert_exporter": "python",
   "pygments_lexer": "ipython3",
   "version": "3.8.3"
  }
 },
 "nbformat": 4,
 "nbformat_minor": 1
}