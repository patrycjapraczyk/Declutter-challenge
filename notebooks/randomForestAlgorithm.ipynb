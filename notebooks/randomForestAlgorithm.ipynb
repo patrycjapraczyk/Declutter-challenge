{
 "cells": [
  {
   "cell_type": "markdown",
   "metadata": {
    "collapsed": true,
    "pycharm": {
     "name": "#%% md\n"
    }
   },
   "source": [
    "Feature weight in Random Forest algorithm\n",
    "\n",
    "WARNING- this code may not work due to the file paths that had to be changed to allow\n",
    "easy execution of the main module needed for project submission.\n",
    "If this happens, please change the file paths in 'helpers/data_loader.py' to the following:\n",
    "    TRAIN_DATA_PATH = \"./../data/train_set_0520.csv\"\n",
    "    CODE_PATH = \"./../data/code_data.csv\"\n",
    "    CODE_LONG_PATH = \"./../data/code_javadoc.txt\"\n",
    "    FUNCTIONAL_TYPES = \"./../data/functional_types.csv\"\n",
    "    PYTHON_DATA = \"./../data/python_data.csv\""
   ]
  },
  {
   "cell_type": "code",
   "execution_count": 3,
   "metadata": {
    "pycharm": {
     "name": "#%%\n"
    }
   },
   "outputs": [
    {
     "name": "stderr",
     "output_type": "stream",
     "text": [
      "/home/patrycja/PycharmProjects/scientificProject1/models/model_exec.py:117: SettingWithCopyWarning: \n",
      "A value is trying to be set on a copy of a slice from a DataFrame.\n",
      "Try using .loc[row_indexer,col_indexer] = value instead\n",
      "\n",
      "See the caveats in the documentation: https://pandas.pydata.org/pandas-docs/stable/user_guide/indexing.html#returning-a-view-versus-a-copy\n",
      "  x['comment'] = x['comment'].apply(DataProcesser.remove_stopwords)\n",
      "/home/patrycja/PycharmProjects/scientificProject1/models/model_exec.py:117: SettingWithCopyWarning: \n",
      "A value is trying to be set on a copy of a slice from a DataFrame.\n",
      "Try using .loc[row_indexer,col_indexer] = value instead\n",
      "\n",
      "See the caveats in the documentation: https://pandas.pydata.org/pandas-docs/stable/user_guide/indexing.html#returning-a-view-versus-a-copy\n",
      "  x['comment'] = x['comment'].apply(DataProcesser.remove_stopwords)\n"
     ]
    },
    {
     "name": "stdout",
     "output_type": "stream",
     "text": [
      "Accuracy Score : 0.6737804878048781\n",
      "Precision Score : 0.9370629370629371\n",
      "Recall Score : 0.5775862068965517\n",
      "F1 Score : 0.7146666666666667\n",
      "Matthews_corrcoef: 0.44393980895962204\n",
      "Balanced accuracy score: 0.7419181034482758\n",
      "Confusion matrix: \n",
      "[[ 87   9]\n",
      " [ 98 134]]\n"
     ]
    },
    {
     "data": {
      "text/plain": "<Figure size 468x324 with 1 Axes>",
      "image/png": "[encoded data removed]"
     },
     "metadata": {
      "needs_background": "light"
     },
     "output_type": "display_data"
    },
    {
     "data": {
      "text/plain": "<Figure size 360x360 with 0 Axes>"
     },
     "metadata": {},
     "output_type": "display_data"
    }
   ],
   "source": [
    "from models.model_exec import ModelExec\n",
    "import numpy as np\n",
    "import matplotlib.pyplot as plt\n",
    "\n",
    "model_exec = ModelExec()\n",
    "model = model_exec.execute_model('RandomForest')\n",
    "model = model.get_model()\n",
    "\n",
    "def get_plot_weight(col):\n",
    "    y = model.feature_importances_\n",
    "    # plot\n",
    "    fig, ax = plt.subplots()\n",
    "    width = 0.4  # the width of the bars\n",
    "    ind = np.arange(len(y))  # the x locations for the groups\n",
    "    ax.barh(ind, y, width, color=\"green\")\n",
    "    ax.set_yticks(ind + width / 10)\n",
    "    ax.set_yticklabels(col, minor=False)\n",
    "\n",
    "    plt.title(\"Feature importance in RandomForest Classifier\")\n",
    "    plt.xlabel(\"Relative importance\")\n",
    "    plt.ylabel(\"feature\")\n",
    "    plt.figure(figsize=(5, 5))\n",
    "    fig.set_size_inches(6.5, 4.5, forward=True)\n",
    "\n",
    "get_plot_weight([\"Comment Length\", \"Stopwords number\", \"Comment/code similarity- jacc\", \"Comment/code similarity- cosine\", \"Functional types\"])"
   ]
  },
  {
   "cell_type": "markdown",
   "metadata": {},
   "source": [
    "Feature weight in Random Forest algorithm with comments"
   ]
  },
  {
   "cell_type": "code",
   "execution_count": 4,
   "metadata": {
    "pycharm": {
     "name": "#%%\n"
    }
   },
   "outputs": [
    {
     "name": "stderr",
     "output_type": "stream",
     "text": [
      "/home/patrycja/PycharmProjects/scientificProject1/models/model_exec.py:117: SettingWithCopyWarning: \n",
      "A value is trying to be set on a copy of a slice from a DataFrame.\n",
      "Try using .loc[row_indexer,col_indexer] = value instead\n",
      "\n",
      "See the caveats in the documentation: https://pandas.pydata.org/pandas-docs/stable/user_guide/indexing.html#returning-a-view-versus-a-copy\n",
      "  x['comment'] = x['comment'].apply(DataProcesser.remove_stopwords)\n",
      "/home/patrycja/PycharmProjects/scientificProject1/models/model_exec.py:117: SettingWithCopyWarning: \n",
      "A value is trying to be set on a copy of a slice from a DataFrame.\n",
      "Try using .loc[row_indexer,col_indexer] = value instead\n",
      "\n",
      "See the caveats in the documentation: https://pandas.pydata.org/pandas-docs/stable/user_guide/indexing.html#returning-a-view-versus-a-copy\n",
      "  x['comment'] = x['comment'].apply(DataProcesser.remove_stopwords)\n"
     ]
    },
    {
     "name": "stdout",
     "output_type": "stream",
     "text": [
      "Accuracy Score : 0.6707317073170732\n",
      "Precision Score : 0.918918918918919\n",
      "Recall Score : 0.5862068965517241\n",
      "F1 Score : 0.7157894736842105\n",
      "Matthews_corrcoef: 0.42170455449639993\n",
      "Balanced accuracy score: 0.7306034482758621\n",
      "Confusion matrix: \n",
      "[[ 84  12]\n",
      " [ 96 136]]\n"
     ]
    },
    {
     "ename": "AttributeError",
     "evalue": "'function' object has no attribute 'feature_importances_'",
     "output_type": "error",
     "traceback": [
      "\u001B[0;31m---------------------------------------------------------------------------\u001B[0m",
      "\u001B[0;31mAttributeError\u001B[0m                            Traceback (most recent call last)",
      "\u001B[0;32m<ipython-input-4-71ca425c281c>\u001B[0m in \u001B[0;36m<module>\u001B[0;34m\u001B[0m\n\u001B[1;32m      2\u001B[0m \u001B[0mmodel\u001B[0m \u001B[0;34m=\u001B[0m \u001B[0mmodel_exec\u001B[0m\u001B[0;34m.\u001B[0m\u001B[0mexecute_model\u001B[0m\u001B[0;34m(\u001B[0m\u001B[0;34m'RandomForest'\u001B[0m\u001B[0;34m)\u001B[0m\u001B[0;34m\u001B[0m\u001B[0;34m\u001B[0m\u001B[0m\n\u001B[1;32m      3\u001B[0m \u001B[0mmodel\u001B[0m \u001B[0;34m=\u001B[0m \u001B[0mmodel\u001B[0m\u001B[0;34m.\u001B[0m\u001B[0mget_model\u001B[0m\u001B[0;34m\u001B[0m\u001B[0;34m\u001B[0m\u001B[0m\n\u001B[0;32m----> 4\u001B[0;31m \u001B[0mget_plot_weight\u001B[0m\u001B[0;34m(\u001B[0m\u001B[0;34m[\u001B[0m\u001B[0;34m\"Comment Length\"\u001B[0m\u001B[0;34m,\u001B[0m \u001B[0;34m\"Stopwords number\"\u001B[0m\u001B[0;34m,\u001B[0m \u001B[0;34m\"Comment/code similarity\"\u001B[0m\u001B[0;34m,\u001B[0m \u001B[0;34m\"Comments\"\u001B[0m\u001B[0;34m]\u001B[0m\u001B[0;34m)\u001B[0m\u001B[0;34m\u001B[0m\u001B[0;34m\u001B[0m\u001B[0m\n\u001B[0m\u001B[1;32m      5\u001B[0m \u001B[0;34m\u001B[0m\u001B[0m\n\u001B[1;32m      6\u001B[0m \u001B[0;34m\u001B[0m\u001B[0m\n",
      "\u001B[0;32m<ipython-input-3-4a22a00e8fe3>\u001B[0m in \u001B[0;36mget_plot_weight\u001B[0;34m(col)\u001B[0m\n\u001B[1;32m      8\u001B[0m \u001B[0;34m\u001B[0m\u001B[0m\n\u001B[1;32m      9\u001B[0m \u001B[0;32mdef\u001B[0m \u001B[0mget_plot_weight\u001B[0m\u001B[0;34m(\u001B[0m\u001B[0mcol\u001B[0m\u001B[0;34m)\u001B[0m\u001B[0;34m:\u001B[0m\u001B[0;34m\u001B[0m\u001B[0;34m\u001B[0m\u001B[0m\n\u001B[0;32m---> 10\u001B[0;31m     \u001B[0my\u001B[0m \u001B[0;34m=\u001B[0m \u001B[0mmodel\u001B[0m\u001B[0;34m.\u001B[0m\u001B[0mfeature_importances_\u001B[0m\u001B[0;34m\u001B[0m\u001B[0;34m\u001B[0m\u001B[0m\n\u001B[0m\u001B[1;32m     11\u001B[0m     \u001B[0;31m# plot\u001B[0m\u001B[0;34m\u001B[0m\u001B[0;34m\u001B[0m\u001B[0;34m\u001B[0m\u001B[0m\n\u001B[1;32m     12\u001B[0m     \u001B[0mfig\u001B[0m\u001B[0;34m,\u001B[0m \u001B[0max\u001B[0m \u001B[0;34m=\u001B[0m \u001B[0mplt\u001B[0m\u001B[0;34m.\u001B[0m\u001B[0msubplots\u001B[0m\u001B[0;34m(\u001B[0m\u001B[0;34m)\u001B[0m\u001B[0;34m\u001B[0m\u001B[0;34m\u001B[0m\u001B[0m\n",
      "\u001B[0;31mAttributeError\u001B[0m: 'function' object has no attribute 'feature_importances_'"
     ]
    }
   ],
   "source": [
    "model_exec = ModelExec(include_comments=True)\n",
    "model = model_exec.execute_model('RandomForest')\n",
    "model = model.get_model\n",
    "get_plot_weight([\"Comment Length\", \"Stopwords number\", \"Comment/code similarity\", \"Comments\"])\n"
   ]
  },
  {
   "cell_type": "markdown",
   "metadata": {
    "pycharm": {
     "name": "#%% md\n"
    }
   },
   "source": [
    "Get decision trees in Random Forest algorithm"
   ]
  },
  {
   "cell_type": "code",
   "execution_count": null,
   "metadata": {
    "pycharm": {
     "name": "#%%\n"
    }
   },
   "outputs": [],
   "source": [
    "estimator = model.estimators_[5]\n",
    "from sklearn.tree import export_graphviz\n",
    "\n",
    "export_graphviz(estimator,\n",
    "                out_file='tree.dot',\n",
    "                feature_names = [\"Comment Length\", \"Stopwords number\", \"Comment/code similarity\"],\n",
    "                class_names = ['non-information: yes', 'non-information: no'],\n",
    "                rounded = True, proportion = False,\n",
    "                precision = 2, filled = True)\n",
    "from subprocess import call\n",
    "call(['dot', '-Tpng', 'tree.dot', '-o', 'tree.png', '-Gdpi=600'])\n",
    "from IPython.display import Image\n",
    "\n",
    "Image(filename = 'tree.png')"
   ]
  },
  {
   "cell_type": "code",
   "execution_count": null,
   "metadata": {},
   "outputs": [],
   "source": []
  }
 ],
 "metadata": {
  "kernelspec": {
   "display_name": "Python 3",
   "language": "python",
   "name": "python3"
  }
 },
 "nbformat": 4,
 "nbformat_minor": 1
}