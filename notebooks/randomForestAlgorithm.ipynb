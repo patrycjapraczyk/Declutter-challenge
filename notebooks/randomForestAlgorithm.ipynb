{
 "cells": [
  {
   "cell_type": "markdown",
   "metadata": {
    "collapsed": true,
    "pycharm": {
     "name": "#%% md\n"
    }
   },
   "source": [
    "Feature weight in Random Forest algorithm"
   ]
  },
  {
   "cell_type": "code",
   "execution_count": null,
   "metadata": {
    "pycharm": {
     "is_executing": true,
     "name": "#%%\n"
    }
   },
   "outputs": [
    {
     "name": "stderr",
     "output_type": "stream",
     "text": [
      "/home/patrycja/PycharmProjects/scientificProject1/models/model_exec.py:104: SettingWithCopyWarning: \n",
      "A value is trying to be set on a copy of a slice from a DataFrame.\n",
      "Try using .loc[row_indexer,col_indexer] = value instead\n",
      "\n",
      "See the caveats in the documentation: https://pandas.pydata.org/pandas-docs/stable/user_guide/indexing.html#returning-a-view-versus-a-copy\n",
      "  x_train['comment'] = x_train['comment'].apply(DataProcesser.remove_stopwords)\n",
      "/home/patrycja/PycharmProjects/scientificProject1/models/model_exec.py:105: SettingWithCopyWarning: \n",
      "A value is trying to be set on a copy of a slice from a DataFrame.\n",
      "Try using .loc[row_indexer,col_indexer] = value instead\n",
      "\n",
      "See the caveats in the documentation: https://pandas.pydata.org/pandas-docs/stable/user_guide/indexing.html#returning-a-view-versus-a-copy\n",
      "  x_test['comment'] = x_test['comment'].apply(DataProcesser.remove_stopwords)\n",
      "/home/patrycja/PycharmProjects/scientificProject1/models/model_exec.py:104: SettingWithCopyWarning: \n",
      "A value is trying to be set on a copy of a slice from a DataFrame.\n",
      "Try using .loc[row_indexer,col_indexer] = value instead\n",
      "\n",
      "See the caveats in the documentation: https://pandas.pydata.org/pandas-docs/stable/user_guide/indexing.html#returning-a-view-versus-a-copy\n",
      "  x_train['comment'] = x_train['comment'].apply(DataProcesser.remove_stopwords)\n",
      "/home/patrycja/PycharmProjects/scientificProject1/models/model_exec.py:105: SettingWithCopyWarning: \n",
      "A value is trying to be set on a copy of a slice from a DataFrame.\n",
      "Try using .loc[row_indexer,col_indexer] = value instead\n",
      "\n",
      "See the caveats in the documentation: https://pandas.pydata.org/pandas-docs/stable/user_guide/indexing.html#returning-a-view-versus-a-copy\n",
      "  x_test['comment'] = x_test['comment'].apply(DataProcesser.remove_stopwords)\n",
      "/home/patrycja/PycharmProjects/scientificProject1/models/model_exec.py:104: SettingWithCopyWarning: \n",
      "A value is trying to be set on a copy of a slice from a DataFrame.\n",
      "Try using .loc[row_indexer,col_indexer] = value instead\n",
      "\n",
      "See the caveats in the documentation: https://pandas.pydata.org/pandas-docs/stable/user_guide/indexing.html#returning-a-view-versus-a-copy\n",
      "  x_train['comment'] = x_train['comment'].apply(DataProcesser.remove_stopwords)\n",
      "/home/patrycja/PycharmProjects/scientificProject1/models/model_exec.py:105: SettingWithCopyWarning: \n",
      "A value is trying to be set on a copy of a slice from a DataFrame.\n",
      "Try using .loc[row_indexer,col_indexer] = value instead\n",
      "\n",
      "See the caveats in the documentation: https://pandas.pydata.org/pandas-docs/stable/user_guide/indexing.html#returning-a-view-versus-a-copy\n",
      "  x_test['comment'] = x_test['comment'].apply(DataProcesser.remove_stopwords)\n",
      "/home/patrycja/PycharmProjects/scientificProject1/models/model_exec.py:104: SettingWithCopyWarning: \n",
      "A value is trying to be set on a copy of a slice from a DataFrame.\n",
      "Try using .loc[row_indexer,col_indexer] = value instead\n",
      "\n",
      "See the caveats in the documentation: https://pandas.pydata.org/pandas-docs/stable/user_guide/indexing.html#returning-a-view-versus-a-copy\n",
      "  x_train['comment'] = x_train['comment'].apply(DataProcesser.remove_stopwords)\n",
      "/home/patrycja/PycharmProjects/scientificProject1/models/model_exec.py:105: SettingWithCopyWarning: \n",
      "A value is trying to be set on a copy of a slice from a DataFrame.\n",
      "Try using .loc[row_indexer,col_indexer] = value instead\n",
      "\n",
      "See the caveats in the documentation: https://pandas.pydata.org/pandas-docs/stable/user_guide/indexing.html#returning-a-view-versus-a-copy\n",
      "  x_test['comment'] = x_test['comment'].apply(DataProcesser.remove_stopwords)\n",
      "/home/patrycja/PycharmProjects/scientificProject1/models/model_exec.py:104: SettingWithCopyWarning: \n",
      "A value is trying to be set on a copy of a slice from a DataFrame.\n",
      "Try using .loc[row_indexer,col_indexer] = value instead\n",
      "\n",
      "See the caveats in the documentation: https://pandas.pydata.org/pandas-docs/stable/user_guide/indexing.html#returning-a-view-versus-a-copy\n",
      "  x_train['comment'] = x_train['comment'].apply(DataProcesser.remove_stopwords)\n",
      "/home/patrycja/PycharmProjects/scientificProject1/models/model_exec.py:105: SettingWithCopyWarning: \n",
      "A value is trying to be set on a copy of a slice from a DataFrame.\n",
      "Try using .loc[row_indexer,col_indexer] = value instead\n",
      "\n",
      "See the caveats in the documentation: https://pandas.pydata.org/pandas-docs/stable/user_guide/indexing.html#returning-a-view-versus-a-copy\n",
      "  x_test['comment'] = x_test['comment'].apply(DataProcesser.remove_stopwords)\n",
      "/home/patrycja/PycharmProjects/scientificProject1/models/model_exec.py:104: SettingWithCopyWarning: \n",
      "A value is trying to be set on a copy of a slice from a DataFrame.\n",
      "Try using .loc[row_indexer,col_indexer] = value instead\n",
      "\n",
      "See the caveats in the documentation: https://pandas.pydata.org/pandas-docs/stable/user_guide/indexing.html#returning-a-view-versus-a-copy\n",
      "  x_train['comment'] = x_train['comment'].apply(DataProcesser.remove_stopwords)\n",
      "/home/patrycja/PycharmProjects/scientificProject1/models/model_exec.py:105: SettingWithCopyWarning: \n",
      "A value is trying to be set on a copy of a slice from a DataFrame.\n",
      "Try using .loc[row_indexer,col_indexer] = value instead\n",
      "\n",
      "See the caveats in the documentation: https://pandas.pydata.org/pandas-docs/stable/user_guide/indexing.html#returning-a-view-versus-a-copy\n",
      "  x_test['comment'] = x_test['comment'].apply(DataProcesser.remove_stopwords)\n"
     ]
    }
   ],
   "source": [
    "from models.model_exec import ModelExec\n",
    "import numpy as np\n",
    "import matplotlib.pyplot as plt\n",
    "\n",
    "model_exec = ModelExec()\n",
    "model = model_exec.execute_model('RandomForest')\n",
    "model = model.get_model()\n",
    "\n",
    "def get_plot_weight(col):\n",
    "    y = model.feature_importances_\n",
    "    # plot\n",
    "    fig, ax = plt.subplots()\n",
    "    width = 0.4  # the width of the bars\n",
    "    ind = np.arange(len(y))  # the x locations for the groups\n",
    "    ax.barh(ind, y, width, color=\"green\")\n",
    "    ax.set_yticks(ind + width / 10)\n",
    "    ax.set_yticklabels(col, minor=False)\n",
    "\n",
    "    plt.title(\"Feature importance in RandomForest Classifier\")\n",
    "    plt.xlabel(\"Relative importance\")\n",
    "    plt.ylabel(\"feature\")\n",
    "    plt.figure(figsize=(5, 5))\n",
    "    fig.set_size_inches(6.5, 4.5, forward=True)\n",
    "\n",
    "get_plot_weight([\"Comment Length\", \"Stopwords number\", \"Comment/code similarity\", \"Functional types\"])"
   ]
  },
  {
   "cell_type": "markdown",
   "metadata": {},
   "source": [
    "Feature weight in Random Forest algorithm with comments"
   ]
  },
  {
   "cell_type": "code",
   "execution_count": null,
   "metadata": {
    "pycharm": {
     "is_executing": true,
     "name": "#%%\n"
    }
   },
   "outputs": [],
   "source": [
    "model_exec = ModelExec(include_comments=True)\n",
    "model = model_exec.execute_model('RandomForest')\n",
    "model = model.get_model\n",
    "get_plot_weight([\"Comment Length\", \"Stopwords number\", \"Comment/code similarity\", \"Comments\"])\n"
   ]
  },
  {
   "cell_type": "markdown",
   "metadata": {
    "pycharm": {
     "name": "#%% md\n"
    }
   },
   "source": [
    "Get decision trees in Random Forest algorithm"
   ]
  },
  {
   "cell_type": "code",
   "execution_count": null,
   "metadata": {
    "pycharm": {
     "is_executing": true,
     "name": "#%%\n"
    }
   },
   "outputs": [],
   "source": [
    "estimator = model.estimators_[5]\n",
    "from sklearn.tree import export_graphviz\n",
    "\n",
    "export_graphviz(estimator,\n",
    "                out_file='tree.dot',\n",
    "                feature_names = [\"Comment Length\", \"Stopwords number\", \"Comment/code similarity\"],\n",
    "                class_names = ['non-information: yes', 'non-information: no'],\n",
    "                rounded = True, proportion = False,\n",
    "                precision = 2, filled = True)\n",
    "from subprocess import call\n",
    "call(['dot', '-Tpng', 'tree.dot', '-o', 'tree.png', '-Gdpi=600'])\n",
    "from IPython.display import Image\n",
    "\n",
    "Image(filename = 'tree.png')"
   ]
  },
  {
   "cell_type": "code",
   "execution_count": null,
   "metadata": {
    "pycharm": {
     "is_executing": true
    }
   },
   "outputs": [],
   "source": []
  }
 ],
 "metadata": {
  "kernelspec": {
   "display_name": "Python 3",
   "language": "python",
   "name": "python3"
  }
 },
 "nbformat": 4,
 "nbformat_minor": 1
}