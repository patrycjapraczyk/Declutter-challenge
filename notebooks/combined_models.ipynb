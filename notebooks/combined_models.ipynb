{
 "cells": [
  {
   "cell_type": "markdown",
   "metadata": {
    "collapsed": true,
    "pycharm": {
     "name": "#%% md\n"
    }
   },
   "source": [
    "Model comparison- without comment data"
   ]
  },
  {
   "cell_type": "code",
   "execution_count": 1,
   "outputs": [
    {
     "name": "stderr",
     "output_type": "stream",
     "text": [
      "/home/patrycja/PycharmProjects/scientificProject1/models/model_exec.py:54: SettingWithCopyWarning: \n",
      "A value is trying to be set on a copy of a slice from a DataFrame.\n",
      "Try using .loc[row_indexer,col_indexer] = value instead\n",
      "\n",
      "See the caveats in the documentation: https://pandas.pydata.org/pandas-docs/stable/user_guide/indexing.html#returning-a-view-versus-a-copy\n",
      "  self.x_train['comment'] = self.x_train['comment'].apply(DataProcesser.remove_stopwords)\n",
      "/home/patrycja/PycharmProjects/scientificProject1/models/model_exec.py:55: SettingWithCopyWarning: \n",
      "A value is trying to be set on a copy of a slice from a DataFrame.\n",
      "Try using .loc[row_indexer,col_indexer] = value instead\n",
      "\n",
      "See the caveats in the documentation: https://pandas.pydata.org/pandas-docs/stable/user_guide/indexing.html#returning-a-view-versus-a-copy\n",
      "  self.x_test['comment'] = self.x_test['comment'].apply(DataProcesser.remove_stopwords)\n",
      "/home/patrycja/anaconda3/lib/python3.8/site-packages/sklearn/svm/_base.py:976: ConvergenceWarning: Liblinear failed to converge, increase the number of iterations.\n",
      "  warnings.warn(\"Liblinear failed to converge, increase \"\n",
      "/home/patrycja/PycharmProjects/scientificProject1/models/model_exec.py:54: SettingWithCopyWarning: \n",
      "A value is trying to be set on a copy of a slice from a DataFrame.\n",
      "Try using .loc[row_indexer,col_indexer] = value instead\n",
      "\n",
      "See the caveats in the documentation: https://pandas.pydata.org/pandas-docs/stable/user_guide/indexing.html#returning-a-view-versus-a-copy\n",
      "  self.x_train['comment'] = self.x_train['comment'].apply(DataProcesser.remove_stopwords)\n",
      "/home/patrycja/PycharmProjects/scientificProject1/models/model_exec.py:55: SettingWithCopyWarning: \n",
      "A value is trying to be set on a copy of a slice from a DataFrame.\n",
      "Try using .loc[row_indexer,col_indexer] = value instead\n",
      "\n",
      "See the caveats in the documentation: https://pandas.pydata.org/pandas-docs/stable/user_guide/indexing.html#returning-a-view-versus-a-copy\n",
      "  self.x_test['comment'] = self.x_test['comment'].apply(DataProcesser.remove_stopwords)\n",
      "/home/patrycja/anaconda3/lib/python3.8/site-packages/sklearn/svm/_base.py:976: ConvergenceWarning: Liblinear failed to converge, increase the number of iterations.\n",
      "  warnings.warn(\"Liblinear failed to converge, increase \"\n",
      "/home/patrycja/anaconda3/lib/python3.8/site-packages/sklearn/svm/_base.py:976: ConvergenceWarning: Liblinear failed to converge, increase the number of iterations.\n",
      "  warnings.warn(\"Liblinear failed to converge, increase \"\n"
     ]
    },
    {
     "name": "stdout",
     "output_type": "stream",
     "text": [
      "\n",
      "LogisticRegression\n",
      "Accuracy Score : 0.7012195121951219\n",
      "Precision Score : 0.4939759036144578\n",
      "Recall Score : 0.422680412371134\n",
      "F1 Score : 0.45555555555555555\n",
      "\n",
      "RandomForest\n",
      "Accuracy Score : 0.7926829268292683\n",
      "Precision Score : 0.6705882352941176\n",
      "Recall Score : 0.5876288659793815\n",
      "F1 Score : 0.6263736263736264\n",
      "\n",
      "GradientBoosting\n",
      "Accuracy Score : 0.7378048780487805\n",
      "Precision Score : 0.7894736842105263\n",
      "Recall Score : 0.15463917525773196\n",
      "F1 Score : 0.25862068965517243\n",
      "\n",
      "SVM\n",
      "Accuracy Score : 0.6524390243902439\n",
      "Precision Score : 0.4421768707482993\n",
      "Recall Score : 0.6701030927835051\n",
      "F1 Score : 0.5327868852459017\n",
      "\n",
      "LogisticRegression\n",
      "Accuracy Score : 0.7865853658536586\n",
      "Precision Score : 0.6261682242990654\n",
      "Recall Score : 0.6907216494845361\n",
      "F1 Score : 0.6568627450980392\n",
      "\n",
      "RandomForest\n",
      "Accuracy Score : 0.7835365853658537\n",
      "Precision Score : 0.6120689655172413\n",
      "Recall Score : 0.7319587628865979\n",
      "F1 Score : 0.6666666666666666\n",
      "\n",
      "GradientBoosting\n",
      "Accuracy Score : 0.7896341463414634\n",
      "Precision Score : 0.7058823529411765\n",
      "Recall Score : 0.4948453608247423\n",
      "F1 Score : 0.5818181818181818\n",
      "\n",
      "SVM\n",
      "Accuracy Score : 0.7865853658536586\n",
      "Precision Score : 0.6261682242990654\n",
      "Recall Score : 0.6907216494845361\n",
      "F1 Score : 0.6568627450980392\n",
      "\n",
      "LogisticRegression\n",
      "Accuracy Score : 0.7865853658536586\n",
      "Precision Score : 0.6261682242990654\n",
      "Recall Score : 0.6907216494845361\n",
      "F1 Score : 0.6568627450980392\n",
      "\n",
      "RandomForest\n",
      "Accuracy Score : 0.7835365853658537\n",
      "Precision Score : 0.6120689655172413\n",
      "Recall Score : 0.7319587628865979\n",
      "F1 Score : 0.6666666666666666\n",
      "\n",
      "GradientBoosting\n",
      "Accuracy Score : 0.7896341463414634\n",
      "Precision Score : 0.7058823529411765\n",
      "Recall Score : 0.4948453608247423\n",
      "F1 Score : 0.5818181818181818\n",
      "\n",
      "SVM\n",
      "Accuracy Score : 0.7865853658536586\n",
      "Precision Score : 0.6261682242990654\n",
      "Recall Score : 0.6907216494845361\n",
      "F1 Score : 0.6568627450980392\n"
     ]
    },
    {
     "data": {
      "text/plain": "                 name  accuracy  precision    recall        f1\n0  LogisticRegression  0.786585   0.626168  0.690722  0.656863\n0        RandomForest  0.783537   0.612069  0.731959  0.666667\n0    GradientBoosting  0.789634   0.705882  0.494845  0.581818\n0                 SVM  0.786585   0.626168  0.690722  0.656863",
      "text/html": "<div>\n<style scoped>\n    .dataframe tbody tr th:only-of-type {\n        vertical-align: middle;\n    }\n\n    .dataframe tbody tr th {\n        vertical-align: top;\n    }\n\n    .dataframe thead th {\n        text-align: right;\n    }\n</style>\n<table border=\"1\" class=\"dataframe\">\n  <thead>\n    <tr style=\"text-align: right;\">\n      <th></th>\n      <th>name</th>\n      <th>accuracy</th>\n      <th>precision</th>\n      <th>recall</th>\n      <th>f1</th>\n    </tr>\n  </thead>\n  <tbody>\n    <tr>\n      <th>0</th>\n      <td>LogisticRegression</td>\n      <td>0.786585</td>\n      <td>0.626168</td>\n      <td>0.690722</td>\n      <td>0.656863</td>\n    </tr>\n    <tr>\n      <th>0</th>\n      <td>RandomForest</td>\n      <td>0.783537</td>\n      <td>0.612069</td>\n      <td>0.731959</td>\n      <td>0.666667</td>\n    </tr>\n    <tr>\n      <th>0</th>\n      <td>GradientBoosting</td>\n      <td>0.789634</td>\n      <td>0.705882</td>\n      <td>0.494845</td>\n      <td>0.581818</td>\n    </tr>\n    <tr>\n      <th>0</th>\n      <td>SVM</td>\n      <td>0.786585</td>\n      <td>0.626168</td>\n      <td>0.690722</td>\n      <td>0.656863</td>\n    </tr>\n  </tbody>\n</table>\n</div>"
     },
     "execution_count": 1,
     "metadata": {},
     "output_type": "execute_result"
    }
   ],
   "source": [
    "from models.model_exec import ModelExec\n",
    "model_exec = ModelExec()\n",
    "model_exec.compare_models()"
   ],
   "metadata": {
    "collapsed": false,
    "pycharm": {
     "name": "#%%\n"
    }
   }
  }
 ],
 "metadata": {
  "kernelspec": {
   "display_name": "Python 3",
   "language": "python",
   "name": "python3"
  },
  "language_info": {
   "codemirror_mode": {
    "name": "ipython",
    "version": 2
   },
   "file_extension": ".py",
   "mimetype": "text/x-python",
   "name": "python",
   "nbconvert_exporter": "python",
   "pygments_lexer": "ipython2",
   "version": "2.7.6"
  }
 },
 "nbformat": 4,
 "nbformat_minor": 0
}